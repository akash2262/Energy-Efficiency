{
  "cells": [
    {
      "cell_type": "markdown",
      "source": [
        "# **Introduction**\n",
        "\n",
        "The dataset was created by Angeliki Xifara (angxifara '@' gmail.com, Civil/Structural Engineer) and was processed by Athanasios Tsanas (tsanasthanasis '@' gmail.com, Oxford Centre for Industrial and Applied Mathematics, University of Oxford, UK).\n",
        "\n",
        "Data Set Information:\n",
        "\n",
        "We perform energy analysis using 12 different building shapes simulated in Ecotect. The buildings differ with respect to the glazing area, the glazing area distribution, and the orientation, amongst other parameters. We simulate various settings as functions of the afore-mentioned characteristics to obtain 768 building shapes. The dataset comprises 768 samples and 8 features, aiming to predict two real valued responses. It can also be used as a multi-class classification problem if the response is rounded to the nearest integer.\n",
        "\n",
        "Attribute Information:\n",
        "\n",
        "The dataset contains eight attributes (or features, denoted by X1…X8) and two responses (or outcomes, denoted by y1 and y2). The aim is to use the eight features to predict each of the two responses.\n",
        "\n",
        "Specifically:\n",
        "X1 Relative Compactness\n",
        "\n",
        "X2 Surface Area\n",
        "\n",
        "X3 Wall Area\n",
        "\n",
        "X4 Roof Area\n",
        "\n",
        "X5 Overall Height\n",
        "\n",
        "X6 Orientation\n",
        "\n",
        "X7 Glazing Area\n",
        "\n",
        "X8 Glazing Area Distribution\n",
        "\n",
        "y1 Heating Load\n",
        "\n",
        "y2 Cooling Load"
      ],
      "metadata": {
        "id": "NOjy9B2MtMIV"
      }
    },
    {
      "cell_type": "markdown",
      "metadata": {
        "id": "C8nLSLcaxZAG"
      },
      "source": [
        "## *Reading data and creating required columns*"
      ]
    },
    {
      "cell_type": "code",
      "execution_count": null,
      "metadata": {
        "id": "XIsNHy4xxZAO"
      },
      "outputs": [],
      "source": [
        "import pandas as pd\n",
        "import numpy as np\n",
        "import matplotlib.pyplot as plt\n",
        "import seaborn as sns\n",
        "from sklearn.model_selection import train_test_split\n",
        "from sklearn.preprocessing import MinMaxScaler\n",
        "%matplotlib inline\n",
        "import warnings\n",
        "warnings.filterwarnings('ignore')"
      ]
    },
    {
      "cell_type": "code",
      "execution_count": null,
      "metadata": {
        "id": "oqaeyEVRxZAS"
      },
      "outputs": [],
      "source": [
        "df = pd.read_csv('/content/energy efficiency.csv')"
      ]
    },
    {
      "cell_type": "markdown",
      "source": [
        "# Exploratory Data Analysis\n"
      ],
      "metadata": {
        "id": "qxUDUWCFWbm-"
      }
    },
    {
      "cell_type": "code",
      "execution_count": null,
      "metadata": {
        "colab": {
          "base_uri": "https://localhost:8080/",
          "height": 206
        },
        "id": "zVooJOXexZAT",
        "outputId": "94ac6207-faa2-45d7-8af2-6354b632fd71"
      },
      "outputs": [
        {
          "output_type": "execute_result",
          "data": {
            "text/plain": [
              "     X1     X2     X3      X4   X5   X6   X7   X8     Y1     Y2\n",
              "0  0.98  514.5  294.0  110.25  7.0  2.0  0.0  0.0  15.55  21.33\n",
              "1  0.98  514.5  294.0  110.25  7.0  3.0  0.0  0.0  15.55  21.33\n",
              "2  0.98  514.5  294.0  110.25  7.0  4.0  0.0  0.0  15.55  21.33\n",
              "3  0.98  514.5  294.0  110.25  7.0  5.0  0.0  0.0  15.55  21.33\n",
              "4  0.90  563.5  318.5  122.50  7.0  2.0  0.0  0.0  20.84  28.28"
            ],
            "text/html": [
              "\n",
              "  <div id=\"df-36076500-a52c-4dee-827e-a897eaaa8e5b\">\n",
              "    <div class=\"colab-df-container\">\n",
              "      <div>\n",
              "<style scoped>\n",
              "    .dataframe tbody tr th:only-of-type {\n",
              "        vertical-align: middle;\n",
              "    }\n",
              "\n",
              "    .dataframe tbody tr th {\n",
              "        vertical-align: top;\n",
              "    }\n",
              "\n",
              "    .dataframe thead th {\n",
              "        text-align: right;\n",
              "    }\n",
              "</style>\n",
              "<table border=\"1\" class=\"dataframe\">\n",
              "  <thead>\n",
              "    <tr style=\"text-align: right;\">\n",
              "      <th></th>\n",
              "      <th>X1</th>\n",
              "      <th>X2</th>\n",
              "      <th>X3</th>\n",
              "      <th>X4</th>\n",
              "      <th>X5</th>\n",
              "      <th>X6</th>\n",
              "      <th>X7</th>\n",
              "      <th>X8</th>\n",
              "      <th>Y1</th>\n",
              "      <th>Y2</th>\n",
              "    </tr>\n",
              "  </thead>\n",
              "  <tbody>\n",
              "    <tr>\n",
              "      <th>0</th>\n",
              "      <td>0.98</td>\n",
              "      <td>514.5</td>\n",
              "      <td>294.0</td>\n",
              "      <td>110.25</td>\n",
              "      <td>7.0</td>\n",
              "      <td>2.0</td>\n",
              "      <td>0.0</td>\n",
              "      <td>0.0</td>\n",
              "      <td>15.55</td>\n",
              "      <td>21.33</td>\n",
              "    </tr>\n",
              "    <tr>\n",
              "      <th>1</th>\n",
              "      <td>0.98</td>\n",
              "      <td>514.5</td>\n",
              "      <td>294.0</td>\n",
              "      <td>110.25</td>\n",
              "      <td>7.0</td>\n",
              "      <td>3.0</td>\n",
              "      <td>0.0</td>\n",
              "      <td>0.0</td>\n",
              "      <td>15.55</td>\n",
              "      <td>21.33</td>\n",
              "    </tr>\n",
              "    <tr>\n",
              "      <th>2</th>\n",
              "      <td>0.98</td>\n",
              "      <td>514.5</td>\n",
              "      <td>294.0</td>\n",
              "      <td>110.25</td>\n",
              "      <td>7.0</td>\n",
              "      <td>4.0</td>\n",
              "      <td>0.0</td>\n",
              "      <td>0.0</td>\n",
              "      <td>15.55</td>\n",
              "      <td>21.33</td>\n",
              "    </tr>\n",
              "    <tr>\n",
              "      <th>3</th>\n",
              "      <td>0.98</td>\n",
              "      <td>514.5</td>\n",
              "      <td>294.0</td>\n",
              "      <td>110.25</td>\n",
              "      <td>7.0</td>\n",
              "      <td>5.0</td>\n",
              "      <td>0.0</td>\n",
              "      <td>0.0</td>\n",
              "      <td>15.55</td>\n",
              "      <td>21.33</td>\n",
              "    </tr>\n",
              "    <tr>\n",
              "      <th>4</th>\n",
              "      <td>0.90</td>\n",
              "      <td>563.5</td>\n",
              "      <td>318.5</td>\n",
              "      <td>122.50</td>\n",
              "      <td>7.0</td>\n",
              "      <td>2.0</td>\n",
              "      <td>0.0</td>\n",
              "      <td>0.0</td>\n",
              "      <td>20.84</td>\n",
              "      <td>28.28</td>\n",
              "    </tr>\n",
              "  </tbody>\n",
              "</table>\n",
              "</div>\n",
              "      <button class=\"colab-df-convert\" onclick=\"convertToInteractive('df-36076500-a52c-4dee-827e-a897eaaa8e5b')\"\n",
              "              title=\"Convert this dataframe to an interactive table.\"\n",
              "              style=\"display:none;\">\n",
              "        \n",
              "  <svg xmlns=\"http://www.w3.org/2000/svg\" height=\"24px\"viewBox=\"0 0 24 24\"\n",
              "       width=\"24px\">\n",
              "    <path d=\"M0 0h24v24H0V0z\" fill=\"none\"/>\n",
              "    <path d=\"M18.56 5.44l.94 2.06.94-2.06 2.06-.94-2.06-.94-.94-2.06-.94 2.06-2.06.94zm-11 1L8.5 8.5l.94-2.06 2.06-.94-2.06-.94L8.5 2.5l-.94 2.06-2.06.94zm10 10l.94 2.06.94-2.06 2.06-.94-2.06-.94-.94-2.06-.94 2.06-2.06.94z\"/><path d=\"M17.41 7.96l-1.37-1.37c-.4-.4-.92-.59-1.43-.59-.52 0-1.04.2-1.43.59L10.3 9.45l-7.72 7.72c-.78.78-.78 2.05 0 2.83L4 21.41c.39.39.9.59 1.41.59.51 0 1.02-.2 1.41-.59l7.78-7.78 2.81-2.81c.8-.78.8-2.07 0-2.86zM5.41 20L4 18.59l7.72-7.72 1.47 1.35L5.41 20z\"/>\n",
              "  </svg>\n",
              "      </button>\n",
              "      \n",
              "  <style>\n",
              "    .colab-df-container {\n",
              "      display:flex;\n",
              "      flex-wrap:wrap;\n",
              "      gap: 12px;\n",
              "    }\n",
              "\n",
              "    .colab-df-convert {\n",
              "      background-color: #E8F0FE;\n",
              "      border: none;\n",
              "      border-radius: 50%;\n",
              "      cursor: pointer;\n",
              "      display: none;\n",
              "      fill: #1967D2;\n",
              "      height: 32px;\n",
              "      padding: 0 0 0 0;\n",
              "      width: 32px;\n",
              "    }\n",
              "\n",
              "    .colab-df-convert:hover {\n",
              "      background-color: #E2EBFA;\n",
              "      box-shadow: 0px 1px 2px rgba(60, 64, 67, 0.3), 0px 1px 3px 1px rgba(60, 64, 67, 0.15);\n",
              "      fill: #174EA6;\n",
              "    }\n",
              "\n",
              "    [theme=dark] .colab-df-convert {\n",
              "      background-color: #3B4455;\n",
              "      fill: #D2E3FC;\n",
              "    }\n",
              "\n",
              "    [theme=dark] .colab-df-convert:hover {\n",
              "      background-color: #434B5C;\n",
              "      box-shadow: 0px 1px 3px 1px rgba(0, 0, 0, 0.15);\n",
              "      filter: drop-shadow(0px 1px 2px rgba(0, 0, 0, 0.3));\n",
              "      fill: #FFFFFF;\n",
              "    }\n",
              "  </style>\n",
              "\n",
              "      <script>\n",
              "        const buttonEl =\n",
              "          document.querySelector('#df-36076500-a52c-4dee-827e-a897eaaa8e5b button.colab-df-convert');\n",
              "        buttonEl.style.display =\n",
              "          google.colab.kernel.accessAllowed ? 'block' : 'none';\n",
              "\n",
              "        async function convertToInteractive(key) {\n",
              "          const element = document.querySelector('#df-36076500-a52c-4dee-827e-a897eaaa8e5b');\n",
              "          const dataTable =\n",
              "            await google.colab.kernel.invokeFunction('convertToInteractive',\n",
              "                                                     [key], {});\n",
              "          if (!dataTable) return;\n",
              "\n",
              "          const docLinkHtml = 'Like what you see? Visit the ' +\n",
              "            '<a target=\"_blank\" href=https://colab.research.google.com/notebooks/data_table.ipynb>data table notebook</a>'\n",
              "            + ' to learn more about interactive tables.';\n",
              "          element.innerHTML = '';\n",
              "          dataTable['output_type'] = 'display_data';\n",
              "          await google.colab.output.renderOutput(dataTable, element);\n",
              "          const docLink = document.createElement('div');\n",
              "          docLink.innerHTML = docLinkHtml;\n",
              "          element.appendChild(docLink);\n",
              "        }\n",
              "      </script>\n",
              "    </div>\n",
              "  </div>\n",
              "  "
            ]
          },
          "metadata": {},
          "execution_count": 4
        }
      ],
      "source": [
        "# Screening the first 5 columns of the dataset\n",
        "df.head()"
      ]
    },
    {
      "cell_type": "code",
      "execution_count": null,
      "metadata": {
        "id": "f48dbApWxZAW"
      },
      "outputs": [],
      "source": [
        "#Renaming the column names\n",
        "df.columns= [\"Relative Compactness\", \"Surface Area\", \"Wall Area\", \"Roof Area\", \"Overall Height\", \"Orientation\", \n",
        "               \"Glazing Area\", \"Glazing Area Distribution\", \"Heating Load\", \"Cooling Load\"]"
      ]
    },
    {
      "cell_type": "code",
      "execution_count": null,
      "metadata": {
        "colab": {
          "base_uri": "https://localhost:8080/",
          "height": 206
        },
        "id": "RgFnlnKzxZAZ",
        "outputId": "4faeeffa-de32-448f-e48e-4f45440c20bb"
      },
      "outputs": [
        {
          "output_type": "execute_result",
          "data": {
            "text/plain": [
              "   Relative Compactness  Surface Area  Wall Area  Roof Area  Overall Height  \\\n",
              "0                  0.98         514.5      294.0     110.25             7.0   \n",
              "1                  0.98         514.5      294.0     110.25             7.0   \n",
              "2                  0.98         514.5      294.0     110.25             7.0   \n",
              "3                  0.98         514.5      294.0     110.25             7.0   \n",
              "4                  0.90         563.5      318.5     122.50             7.0   \n",
              "\n",
              "   Orientation  Glazing Area  Glazing Area Distribution  Heating Load  \\\n",
              "0          2.0           0.0                        0.0         15.55   \n",
              "1          3.0           0.0                        0.0         15.55   \n",
              "2          4.0           0.0                        0.0         15.55   \n",
              "3          5.0           0.0                        0.0         15.55   \n",
              "4          2.0           0.0                        0.0         20.84   \n",
              "\n",
              "   Cooling Load  \n",
              "0         21.33  \n",
              "1         21.33  \n",
              "2         21.33  \n",
              "3         21.33  \n",
              "4         28.28  "
            ],
            "text/html": [
              "\n",
              "  <div id=\"df-0321ea68-b084-4380-9827-ab310dd7599b\">\n",
              "    <div class=\"colab-df-container\">\n",
              "      <div>\n",
              "<style scoped>\n",
              "    .dataframe tbody tr th:only-of-type {\n",
              "        vertical-align: middle;\n",
              "    }\n",
              "\n",
              "    .dataframe tbody tr th {\n",
              "        vertical-align: top;\n",
              "    }\n",
              "\n",
              "    .dataframe thead th {\n",
              "        text-align: right;\n",
              "    }\n",
              "</style>\n",
              "<table border=\"1\" class=\"dataframe\">\n",
              "  <thead>\n",
              "    <tr style=\"text-align: right;\">\n",
              "      <th></th>\n",
              "      <th>Relative Compactness</th>\n",
              "      <th>Surface Area</th>\n",
              "      <th>Wall Area</th>\n",
              "      <th>Roof Area</th>\n",
              "      <th>Overall Height</th>\n",
              "      <th>Orientation</th>\n",
              "      <th>Glazing Area</th>\n",
              "      <th>Glazing Area Distribution</th>\n",
              "      <th>Heating Load</th>\n",
              "      <th>Cooling Load</th>\n",
              "    </tr>\n",
              "  </thead>\n",
              "  <tbody>\n",
              "    <tr>\n",
              "      <th>0</th>\n",
              "      <td>0.98</td>\n",
              "      <td>514.5</td>\n",
              "      <td>294.0</td>\n",
              "      <td>110.25</td>\n",
              "      <td>7.0</td>\n",
              "      <td>2.0</td>\n",
              "      <td>0.0</td>\n",
              "      <td>0.0</td>\n",
              "      <td>15.55</td>\n",
              "      <td>21.33</td>\n",
              "    </tr>\n",
              "    <tr>\n",
              "      <th>1</th>\n",
              "      <td>0.98</td>\n",
              "      <td>514.5</td>\n",
              "      <td>294.0</td>\n",
              "      <td>110.25</td>\n",
              "      <td>7.0</td>\n",
              "      <td>3.0</td>\n",
              "      <td>0.0</td>\n",
              "      <td>0.0</td>\n",
              "      <td>15.55</td>\n",
              "      <td>21.33</td>\n",
              "    </tr>\n",
              "    <tr>\n",
              "      <th>2</th>\n",
              "      <td>0.98</td>\n",
              "      <td>514.5</td>\n",
              "      <td>294.0</td>\n",
              "      <td>110.25</td>\n",
              "      <td>7.0</td>\n",
              "      <td>4.0</td>\n",
              "      <td>0.0</td>\n",
              "      <td>0.0</td>\n",
              "      <td>15.55</td>\n",
              "      <td>21.33</td>\n",
              "    </tr>\n",
              "    <tr>\n",
              "      <th>3</th>\n",
              "      <td>0.98</td>\n",
              "      <td>514.5</td>\n",
              "      <td>294.0</td>\n",
              "      <td>110.25</td>\n",
              "      <td>7.0</td>\n",
              "      <td>5.0</td>\n",
              "      <td>0.0</td>\n",
              "      <td>0.0</td>\n",
              "      <td>15.55</td>\n",
              "      <td>21.33</td>\n",
              "    </tr>\n",
              "    <tr>\n",
              "      <th>4</th>\n",
              "      <td>0.90</td>\n",
              "      <td>563.5</td>\n",
              "      <td>318.5</td>\n",
              "      <td>122.50</td>\n",
              "      <td>7.0</td>\n",
              "      <td>2.0</td>\n",
              "      <td>0.0</td>\n",
              "      <td>0.0</td>\n",
              "      <td>20.84</td>\n",
              "      <td>28.28</td>\n",
              "    </tr>\n",
              "  </tbody>\n",
              "</table>\n",
              "</div>\n",
              "      <button class=\"colab-df-convert\" onclick=\"convertToInteractive('df-0321ea68-b084-4380-9827-ab310dd7599b')\"\n",
              "              title=\"Convert this dataframe to an interactive table.\"\n",
              "              style=\"display:none;\">\n",
              "        \n",
              "  <svg xmlns=\"http://www.w3.org/2000/svg\" height=\"24px\"viewBox=\"0 0 24 24\"\n",
              "       width=\"24px\">\n",
              "    <path d=\"M0 0h24v24H0V0z\" fill=\"none\"/>\n",
              "    <path d=\"M18.56 5.44l.94 2.06.94-2.06 2.06-.94-2.06-.94-.94-2.06-.94 2.06-2.06.94zm-11 1L8.5 8.5l.94-2.06 2.06-.94-2.06-.94L8.5 2.5l-.94 2.06-2.06.94zm10 10l.94 2.06.94-2.06 2.06-.94-2.06-.94-.94-2.06-.94 2.06-2.06.94z\"/><path d=\"M17.41 7.96l-1.37-1.37c-.4-.4-.92-.59-1.43-.59-.52 0-1.04.2-1.43.59L10.3 9.45l-7.72 7.72c-.78.78-.78 2.05 0 2.83L4 21.41c.39.39.9.59 1.41.59.51 0 1.02-.2 1.41-.59l7.78-7.78 2.81-2.81c.8-.78.8-2.07 0-2.86zM5.41 20L4 18.59l7.72-7.72 1.47 1.35L5.41 20z\"/>\n",
              "  </svg>\n",
              "      </button>\n",
              "      \n",
              "  <style>\n",
              "    .colab-df-container {\n",
              "      display:flex;\n",
              "      flex-wrap:wrap;\n",
              "      gap: 12px;\n",
              "    }\n",
              "\n",
              "    .colab-df-convert {\n",
              "      background-color: #E8F0FE;\n",
              "      border: none;\n",
              "      border-radius: 50%;\n",
              "      cursor: pointer;\n",
              "      display: none;\n",
              "      fill: #1967D2;\n",
              "      height: 32px;\n",
              "      padding: 0 0 0 0;\n",
              "      width: 32px;\n",
              "    }\n",
              "\n",
              "    .colab-df-convert:hover {\n",
              "      background-color: #E2EBFA;\n",
              "      box-shadow: 0px 1px 2px rgba(60, 64, 67, 0.3), 0px 1px 3px 1px rgba(60, 64, 67, 0.15);\n",
              "      fill: #174EA6;\n",
              "    }\n",
              "\n",
              "    [theme=dark] .colab-df-convert {\n",
              "      background-color: #3B4455;\n",
              "      fill: #D2E3FC;\n",
              "    }\n",
              "\n",
              "    [theme=dark] .colab-df-convert:hover {\n",
              "      background-color: #434B5C;\n",
              "      box-shadow: 0px 1px 3px 1px rgba(0, 0, 0, 0.15);\n",
              "      filter: drop-shadow(0px 1px 2px rgba(0, 0, 0, 0.3));\n",
              "      fill: #FFFFFF;\n",
              "    }\n",
              "  </style>\n",
              "\n",
              "      <script>\n",
              "        const buttonEl =\n",
              "          document.querySelector('#df-0321ea68-b084-4380-9827-ab310dd7599b button.colab-df-convert');\n",
              "        buttonEl.style.display =\n",
              "          google.colab.kernel.accessAllowed ? 'block' : 'none';\n",
              "\n",
              "        async function convertToInteractive(key) {\n",
              "          const element = document.querySelector('#df-0321ea68-b084-4380-9827-ab310dd7599b');\n",
              "          const dataTable =\n",
              "            await google.colab.kernel.invokeFunction('convertToInteractive',\n",
              "                                                     [key], {});\n",
              "          if (!dataTable) return;\n",
              "\n",
              "          const docLinkHtml = 'Like what you see? Visit the ' +\n",
              "            '<a target=\"_blank\" href=https://colab.research.google.com/notebooks/data_table.ipynb>data table notebook</a>'\n",
              "            + ' to learn more about interactive tables.';\n",
              "          element.innerHTML = '';\n",
              "          dataTable['output_type'] = 'display_data';\n",
              "          await google.colab.output.renderOutput(dataTable, element);\n",
              "          const docLink = document.createElement('div');\n",
              "          docLink.innerHTML = docLinkHtml;\n",
              "          element.appendChild(docLink);\n",
              "        }\n",
              "      </script>\n",
              "    </div>\n",
              "  </div>\n",
              "  "
            ]
          },
          "metadata": {},
          "execution_count": 6
        }
      ],
      "source": [
        "df.head()"
      ]
    },
    {
      "cell_type": "code",
      "execution_count": null,
      "metadata": {
        "colab": {
          "base_uri": "https://localhost:8080/"
        },
        "id": "YDbhCHuuxZAa",
        "outputId": "cd0316ad-e3cb-4bbd-dd6c-8000cfbb5ae2"
      },
      "outputs": [
        {
          "output_type": "execute_result",
          "data": {
            "text/plain": [
              "(1296, 10)"
            ]
          },
          "metadata": {},
          "execution_count": 7
        }
      ],
      "source": [
        "#Checking the shape of the data  \n",
        "df.shape"
      ]
    },
    {
      "cell_type": "code",
      "execution_count": null,
      "metadata": {
        "colab": {
          "base_uri": "https://localhost:8080/"
        },
        "id": "vKktBPd6xZAb",
        "outputId": "191016c3-b352-4def-dda3-362e291a0433"
      },
      "outputs": [
        {
          "output_type": "execute_result",
          "data": {
            "text/plain": [
              "Relative Compactness         528\n",
              "Surface Area                 528\n",
              "Wall Area                    528\n",
              "Roof Area                    528\n",
              "Overall Height               528\n",
              "Orientation                  528\n",
              "Glazing Area                 528\n",
              "Glazing Area Distribution    528\n",
              "Heating Load                 528\n",
              "Cooling Load                 528\n",
              "dtype: int64"
            ]
          },
          "metadata": {},
          "execution_count": 8
        }
      ],
      "source": [
        "#Checking about the null values the data \n",
        "pd.isnull(df).sum()"
      ]
    },
    {
      "cell_type": "code",
      "source": [
        "#Dropping the na values of the columns \n",
        "data= df.dropna()"
      ],
      "metadata": {
        "id": "RuXHSLa8FmpJ"
      },
      "execution_count": null,
      "outputs": []
    },
    {
      "cell_type": "markdown",
      "source": [
        "# Feature Engineering "
      ],
      "metadata": {
        "id": "bEHy1rMpdcUX"
      }
    },
    {
      "cell_type": "code",
      "execution_count": null,
      "metadata": {
        "colab": {
          "base_uri": "https://localhost:8080/",
          "height": 206
        },
        "id": "OWxfRs33xZAe",
        "outputId": "cdbfec97-b161-4311-e067-a02c58d215a7"
      },
      "outputs": [
        {
          "output_type": "execute_result",
          "data": {
            "text/plain": [
              "   Relative Compactness  Surface Area  Wall Area  Roof Area  Overall Height  \\\n",
              "0                  0.98         514.5      294.0     110.25             7.0   \n",
              "1                  0.98         514.5      294.0     110.25             7.0   \n",
              "2                  0.98         514.5      294.0     110.25             7.0   \n",
              "3                  0.98         514.5      294.0     110.25             7.0   \n",
              "4                  0.90         563.5      318.5     122.50             7.0   \n",
              "\n",
              "   Orientation  Glazing Area  Glazing Area Distribution  Heating Load  \\\n",
              "0          2.0           0.0                        0.0         15.55   \n",
              "1          3.0           0.0                        0.0         15.55   \n",
              "2          4.0           0.0                        0.0         15.55   \n",
              "3          5.0           0.0                        0.0         15.55   \n",
              "4          2.0           0.0                        0.0         20.84   \n",
              "\n",
              "   Cooling Load  Overall Load  \n",
              "0         21.33         36.88  \n",
              "1         21.33         36.88  \n",
              "2         21.33         36.88  \n",
              "3         21.33         36.88  \n",
              "4         28.28         49.12  "
            ],
            "text/html": [
              "\n",
              "  <div id=\"df-56cc5a50-1a22-44c7-84c1-3891b2df31db\">\n",
              "    <div class=\"colab-df-container\">\n",
              "      <div>\n",
              "<style scoped>\n",
              "    .dataframe tbody tr th:only-of-type {\n",
              "        vertical-align: middle;\n",
              "    }\n",
              "\n",
              "    .dataframe tbody tr th {\n",
              "        vertical-align: top;\n",
              "    }\n",
              "\n",
              "    .dataframe thead th {\n",
              "        text-align: right;\n",
              "    }\n",
              "</style>\n",
              "<table border=\"1\" class=\"dataframe\">\n",
              "  <thead>\n",
              "    <tr style=\"text-align: right;\">\n",
              "      <th></th>\n",
              "      <th>Relative Compactness</th>\n",
              "      <th>Surface Area</th>\n",
              "      <th>Wall Area</th>\n",
              "      <th>Roof Area</th>\n",
              "      <th>Overall Height</th>\n",
              "      <th>Orientation</th>\n",
              "      <th>Glazing Area</th>\n",
              "      <th>Glazing Area Distribution</th>\n",
              "      <th>Heating Load</th>\n",
              "      <th>Cooling Load</th>\n",
              "      <th>Overall Load</th>\n",
              "    </tr>\n",
              "  </thead>\n",
              "  <tbody>\n",
              "    <tr>\n",
              "      <th>0</th>\n",
              "      <td>0.98</td>\n",
              "      <td>514.5</td>\n",
              "      <td>294.0</td>\n",
              "      <td>110.25</td>\n",
              "      <td>7.0</td>\n",
              "      <td>2.0</td>\n",
              "      <td>0.0</td>\n",
              "      <td>0.0</td>\n",
              "      <td>15.55</td>\n",
              "      <td>21.33</td>\n",
              "      <td>36.88</td>\n",
              "    </tr>\n",
              "    <tr>\n",
              "      <th>1</th>\n",
              "      <td>0.98</td>\n",
              "      <td>514.5</td>\n",
              "      <td>294.0</td>\n",
              "      <td>110.25</td>\n",
              "      <td>7.0</td>\n",
              "      <td>3.0</td>\n",
              "      <td>0.0</td>\n",
              "      <td>0.0</td>\n",
              "      <td>15.55</td>\n",
              "      <td>21.33</td>\n",
              "      <td>36.88</td>\n",
              "    </tr>\n",
              "    <tr>\n",
              "      <th>2</th>\n",
              "      <td>0.98</td>\n",
              "      <td>514.5</td>\n",
              "      <td>294.0</td>\n",
              "      <td>110.25</td>\n",
              "      <td>7.0</td>\n",
              "      <td>4.0</td>\n",
              "      <td>0.0</td>\n",
              "      <td>0.0</td>\n",
              "      <td>15.55</td>\n",
              "      <td>21.33</td>\n",
              "      <td>36.88</td>\n",
              "    </tr>\n",
              "    <tr>\n",
              "      <th>3</th>\n",
              "      <td>0.98</td>\n",
              "      <td>514.5</td>\n",
              "      <td>294.0</td>\n",
              "      <td>110.25</td>\n",
              "      <td>7.0</td>\n",
              "      <td>5.0</td>\n",
              "      <td>0.0</td>\n",
              "      <td>0.0</td>\n",
              "      <td>15.55</td>\n",
              "      <td>21.33</td>\n",
              "      <td>36.88</td>\n",
              "    </tr>\n",
              "    <tr>\n",
              "      <th>4</th>\n",
              "      <td>0.90</td>\n",
              "      <td>563.5</td>\n",
              "      <td>318.5</td>\n",
              "      <td>122.50</td>\n",
              "      <td>7.0</td>\n",
              "      <td>2.0</td>\n",
              "      <td>0.0</td>\n",
              "      <td>0.0</td>\n",
              "      <td>20.84</td>\n",
              "      <td>28.28</td>\n",
              "      <td>49.12</td>\n",
              "    </tr>\n",
              "  </tbody>\n",
              "</table>\n",
              "</div>\n",
              "      <button class=\"colab-df-convert\" onclick=\"convertToInteractive('df-56cc5a50-1a22-44c7-84c1-3891b2df31db')\"\n",
              "              title=\"Convert this dataframe to an interactive table.\"\n",
              "              style=\"display:none;\">\n",
              "        \n",
              "  <svg xmlns=\"http://www.w3.org/2000/svg\" height=\"24px\"viewBox=\"0 0 24 24\"\n",
              "       width=\"24px\">\n",
              "    <path d=\"M0 0h24v24H0V0z\" fill=\"none\"/>\n",
              "    <path d=\"M18.56 5.44l.94 2.06.94-2.06 2.06-.94-2.06-.94-.94-2.06-.94 2.06-2.06.94zm-11 1L8.5 8.5l.94-2.06 2.06-.94-2.06-.94L8.5 2.5l-.94 2.06-2.06.94zm10 10l.94 2.06.94-2.06 2.06-.94-2.06-.94-.94-2.06-.94 2.06-2.06.94z\"/><path d=\"M17.41 7.96l-1.37-1.37c-.4-.4-.92-.59-1.43-.59-.52 0-1.04.2-1.43.59L10.3 9.45l-7.72 7.72c-.78.78-.78 2.05 0 2.83L4 21.41c.39.39.9.59 1.41.59.51 0 1.02-.2 1.41-.59l7.78-7.78 2.81-2.81c.8-.78.8-2.07 0-2.86zM5.41 20L4 18.59l7.72-7.72 1.47 1.35L5.41 20z\"/>\n",
              "  </svg>\n",
              "      </button>\n",
              "      \n",
              "  <style>\n",
              "    .colab-df-container {\n",
              "      display:flex;\n",
              "      flex-wrap:wrap;\n",
              "      gap: 12px;\n",
              "    }\n",
              "\n",
              "    .colab-df-convert {\n",
              "      background-color: #E8F0FE;\n",
              "      border: none;\n",
              "      border-radius: 50%;\n",
              "      cursor: pointer;\n",
              "      display: none;\n",
              "      fill: #1967D2;\n",
              "      height: 32px;\n",
              "      padding: 0 0 0 0;\n",
              "      width: 32px;\n",
              "    }\n",
              "\n",
              "    .colab-df-convert:hover {\n",
              "      background-color: #E2EBFA;\n",
              "      box-shadow: 0px 1px 2px rgba(60, 64, 67, 0.3), 0px 1px 3px 1px rgba(60, 64, 67, 0.15);\n",
              "      fill: #174EA6;\n",
              "    }\n",
              "\n",
              "    [theme=dark] .colab-df-convert {\n",
              "      background-color: #3B4455;\n",
              "      fill: #D2E3FC;\n",
              "    }\n",
              "\n",
              "    [theme=dark] .colab-df-convert:hover {\n",
              "      background-color: #434B5C;\n",
              "      box-shadow: 0px 1px 3px 1px rgba(0, 0, 0, 0.15);\n",
              "      filter: drop-shadow(0px 1px 2px rgba(0, 0, 0, 0.3));\n",
              "      fill: #FFFFFF;\n",
              "    }\n",
              "  </style>\n",
              "\n",
              "      <script>\n",
              "        const buttonEl =\n",
              "          document.querySelector('#df-56cc5a50-1a22-44c7-84c1-3891b2df31db button.colab-df-convert');\n",
              "        buttonEl.style.display =\n",
              "          google.colab.kernel.accessAllowed ? 'block' : 'none';\n",
              "\n",
              "        async function convertToInteractive(key) {\n",
              "          const element = document.querySelector('#df-56cc5a50-1a22-44c7-84c1-3891b2df31db');\n",
              "          const dataTable =\n",
              "            await google.colab.kernel.invokeFunction('convertToInteractive',\n",
              "                                                     [key], {});\n",
              "          if (!dataTable) return;\n",
              "\n",
              "          const docLinkHtml = 'Like what you see? Visit the ' +\n",
              "            '<a target=\"_blank\" href=https://colab.research.google.com/notebooks/data_table.ipynb>data table notebook</a>'\n",
              "            + ' to learn more about interactive tables.';\n",
              "          element.innerHTML = '';\n",
              "          dataTable['output_type'] = 'display_data';\n",
              "          await google.colab.output.renderOutput(dataTable, element);\n",
              "          const docLink = document.createElement('div');\n",
              "          docLink.innerHTML = docLinkHtml;\n",
              "          element.appendChild(docLink);\n",
              "        }\n",
              "      </script>\n",
              "    </div>\n",
              "  </div>\n",
              "  "
            ]
          },
          "metadata": {},
          "execution_count": 10
        }
      ],
      "source": [
        "#Adding column overall load \n",
        "data['Overall Load'] = data['Heating Load'] + data['Cooling Load'] \n",
        "data.head() "
      ]
    },
    {
      "cell_type": "code",
      "execution_count": null,
      "metadata": {
        "colab": {
          "base_uri": "https://localhost:8080/",
          "height": 879
        },
        "id": "mvvImNyaxZAf",
        "outputId": "67ca75df-e44b-4a8f-b0bd-6f195c8b9a6d"
      },
      "outputs": [
        {
          "output_type": "display_data",
          "data": {
            "text/plain": [
              "<Figure size 1440x1080 with 12 Axes>"
            ],
            "image/png": "[encoded data removed]"
          },
          "metadata": {
            "needs_background": "light"
          }
        }
      ],
      "source": [
        "# poltting histogram \n",
        "data.hist(bins=50, figsize=(20,15))\n",
        "plt.show()"
      ]
    },
    {
      "cell_type": "code",
      "execution_count": null,
      "metadata": {
        "colab": {
          "base_uri": "https://localhost:8080/",
          "height": 646
        },
        "id": "_myI0063xZAg",
        "outputId": "451dc091-4c56-4263-926c-8a77de637ff9"
      },
      "outputs": [
        {
          "output_type": "execute_result",
          "data": {
            "text/plain": [
              "                           Relative Compactness  Surface Area     Wall Area  \\\n",
              "Relative Compactness               1.000000e+00 -9.919015e-01 -2.037817e-01   \n",
              "Surface Area                      -9.919015e-01  1.000000e+00  1.955016e-01   \n",
              "Wall Area                         -2.037817e-01  1.955016e-01  1.000000e+00   \n",
              "Roof Area                         -8.688234e-01  8.807195e-01 -2.923165e-01   \n",
              "Overall Height                     8.277473e-01 -8.581477e-01  2.809757e-01   \n",
              "Orientation                        4.678592e-17 -3.459372e-17 -2.429499e-17   \n",
              "Glazing Area                      -2.960552e-15  3.636925e-15 -8.567455e-17   \n",
              "Glazing Area Distribution         -7.107006e-16  2.438409e-15  2.067384e-16   \n",
              "Heating Load                       6.222722e-01 -6.581202e-01  4.556712e-01   \n",
              "Cooling Load                       6.343391e-01 -6.729989e-01  4.271170e-01   \n",
              "Overall Load                       6.319499e-01 -6.693889e-01  4.445024e-01   \n",
              "\n",
              "                              Roof Area  Overall Height   Orientation  \\\n",
              "Relative Compactness      -8.688234e-01    8.277473e-01  4.678592e-17   \n",
              "Surface Area               8.807195e-01   -8.581477e-01 -3.459372e-17   \n",
              "Wall Area                 -2.923165e-01    2.809757e-01 -2.429499e-17   \n",
              "Roof Area                  1.000000e+00   -9.725122e-01 -5.830058e-17   \n",
              "Overall Height            -9.725122e-01    1.000000e+00  4.492205e-17   \n",
              "Orientation               -5.830058e-17    4.492205e-17  1.000000e+00   \n",
              "Glazing Area              -1.759011e-15    1.489134e-17 -9.406007e-16   \n",
              "Glazing Area Distribution -1.078071e-15   -2.920613e-17 -2.549352e-16   \n",
              "Heating Load              -8.618283e-01    8.894307e-01 -2.586534e-03   \n",
              "Cooling Load              -8.625466e-01    8.957852e-01  1.428960e-02   \n",
              "Overall Load              -8.674227e-01    8.979448e-01  5.637309e-03   \n",
              "\n",
              "                           Glazing Area  Glazing Area Distribution  \\\n",
              "Relative Compactness      -2.960552e-15              -7.107006e-16   \n",
              "Surface Area               3.636925e-15               2.438409e-15   \n",
              "Wall Area                 -8.567455e-17               2.067384e-16   \n",
              "Roof Area                 -1.759011e-15              -1.078071e-15   \n",
              "Overall Height             1.489134e-17              -2.920613e-17   \n",
              "Orientation               -9.406007e-16              -2.549352e-16   \n",
              "Glazing Area               1.000000e+00               2.129642e-01   \n",
              "Glazing Area Distribution  2.129642e-01               1.000000e+00   \n",
              "Heating Load               2.698410e-01               8.736759e-02   \n",
              "Cooling Load               2.075050e-01               5.052512e-02   \n",
              "Overall Load               2.410480e-01               6.991125e-02   \n",
              "\n",
              "                           Heating Load  Cooling Load  Overall Load  \n",
              "Relative Compactness           0.622272      0.634339      0.631950  \n",
              "Surface Area                  -0.658120     -0.672999     -0.669389  \n",
              "Wall Area                      0.455671      0.427117      0.444502  \n",
              "Roof Area                     -0.861828     -0.862547     -0.867423  \n",
              "Overall Height                 0.889431      0.895785      0.897945  \n",
              "Orientation                   -0.002587      0.014290      0.005637  \n",
              "Glazing Area                   0.269841      0.207505      0.241048  \n",
              "Glazing Area Distribution      0.087368      0.050525      0.069911  \n",
              "Heating Load                   1.000000      0.975862      0.994299  \n",
              "Cooling Load                   0.975862      1.000000      0.993585  \n",
              "Overall Load                   0.994299      0.993585      1.000000  "
            ],
            "text/html": [
              "\n",
              "  <div id=\"df-8abe8558-e76a-45c4-81e8-6a5f9d680d66\">\n",
              "    <div class=\"colab-df-container\">\n",
              "      <div>\n",
              "<style scoped>\n",
              "    .dataframe tbody tr th:only-of-type {\n",
              "        vertical-align: middle;\n",
              "    }\n",
              "\n",
              "    .dataframe tbody tr th {\n",
              "        vertical-align: top;\n",
              "    }\n",
              "\n",
              "    .dataframe thead th {\n",
              "        text-align: right;\n",
              "    }\n",
              "</style>\n",
              "<table border=\"1\" class=\"dataframe\">\n",
              "  <thead>\n",
              "    <tr style=\"text-align: right;\">\n",
              "      <th></th>\n",
              "      <th>Relative Compactness</th>\n",
              "      <th>Surface Area</th>\n",
              "      <th>Wall Area</th>\n",
              "      <th>Roof Area</th>\n",
              "      <th>Overall Height</th>\n",
              "      <th>Orientation</th>\n",
              "      <th>Glazing Area</th>\n",
              "      <th>Glazing Area Distribution</th>\n",
              "      <th>Heating Load</th>\n",
              "      <th>Cooling Load</th>\n",
              "      <th>Overall Load</th>\n",
              "    </tr>\n",
              "  </thead>\n",
              "  <tbody>\n",
              "    <tr>\n",
              "      <th>Relative Compactness</th>\n",
              "      <td>1.000000e+00</td>\n",
              "      <td>-9.919015e-01</td>\n",
              "      <td>-2.037817e-01</td>\n",
              "      <td>-8.688234e-01</td>\n",
              "      <td>8.277473e-01</td>\n",
              "      <td>4.678592e-17</td>\n",
              "      <td>-2.960552e-15</td>\n",
              "      <td>-7.107006e-16</td>\n",
              "      <td>0.622272</td>\n",
              "      <td>0.634339</td>\n",
              "      <td>0.631950</td>\n",
              "    </tr>\n",
              "    <tr>\n",
              "      <th>Surface Area</th>\n",
              "      <td>-9.919015e-01</td>\n",
              "      <td>1.000000e+00</td>\n",
              "      <td>1.955016e-01</td>\n",
              "      <td>8.807195e-01</td>\n",
              "      <td>-8.581477e-01</td>\n",
              "      <td>-3.459372e-17</td>\n",
              "      <td>3.636925e-15</td>\n",
              "      <td>2.438409e-15</td>\n",
              "      <td>-0.658120</td>\n",
              "      <td>-0.672999</td>\n",
              "      <td>-0.669389</td>\n",
              "    </tr>\n",
              "    <tr>\n",
              "      <th>Wall Area</th>\n",
              "      <td>-2.037817e-01</td>\n",
              "      <td>1.955016e-01</td>\n",
              "      <td>1.000000e+00</td>\n",
              "      <td>-2.923165e-01</td>\n",
              "      <td>2.809757e-01</td>\n",
              "      <td>-2.429499e-17</td>\n",
              "      <td>-8.567455e-17</td>\n",
              "      <td>2.067384e-16</td>\n",
              "      <td>0.455671</td>\n",
              "      <td>0.427117</td>\n",
              "      <td>0.444502</td>\n",
              "    </tr>\n",
              "    <tr>\n",
              "      <th>Roof Area</th>\n",
              "      <td>-8.688234e-01</td>\n",
              "      <td>8.807195e-01</td>\n",
              "      <td>-2.923165e-01</td>\n",
              "      <td>1.000000e+00</td>\n",
              "      <td>-9.725122e-01</td>\n",
              "      <td>-5.830058e-17</td>\n",
              "      <td>-1.759011e-15</td>\n",
              "      <td>-1.078071e-15</td>\n",
              "      <td>-0.861828</td>\n",
              "      <td>-0.862547</td>\n",
              "      <td>-0.867423</td>\n",
              "    </tr>\n",
              "    <tr>\n",
              "      <th>Overall Height</th>\n",
              "      <td>8.277473e-01</td>\n",
              "      <td>-8.581477e-01</td>\n",
              "      <td>2.809757e-01</td>\n",
              "      <td>-9.725122e-01</td>\n",
              "      <td>1.000000e+00</td>\n",
              "      <td>4.492205e-17</td>\n",
              "      <td>1.489134e-17</td>\n",
              "      <td>-2.920613e-17</td>\n",
              "      <td>0.889431</td>\n",
              "      <td>0.895785</td>\n",
              "      <td>0.897945</td>\n",
              "    </tr>\n",
              "    <tr>\n",
              "      <th>Orientation</th>\n",
              "      <td>4.678592e-17</td>\n",
              "      <td>-3.459372e-17</td>\n",
              "      <td>-2.429499e-17</td>\n",
              "      <td>-5.830058e-17</td>\n",
              "      <td>4.492205e-17</td>\n",
              "      <td>1.000000e+00</td>\n",
              "      <td>-9.406007e-16</td>\n",
              "      <td>-2.549352e-16</td>\n",
              "      <td>-0.002587</td>\n",
              "      <td>0.014290</td>\n",
              "      <td>0.005637</td>\n",
              "    </tr>\n",
              "    <tr>\n",
              "      <th>Glazing Area</th>\n",
              "      <td>-2.960552e-15</td>\n",
              "      <td>3.636925e-15</td>\n",
              "      <td>-8.567455e-17</td>\n",
              "      <td>-1.759011e-15</td>\n",
              "      <td>1.489134e-17</td>\n",
              "      <td>-9.406007e-16</td>\n",
              "      <td>1.000000e+00</td>\n",
              "      <td>2.129642e-01</td>\n",
              "      <td>0.269841</td>\n",
              "      <td>0.207505</td>\n",
              "      <td>0.241048</td>\n",
              "    </tr>\n",
              "    <tr>\n",
              "      <th>Glazing Area Distribution</th>\n",
              "      <td>-7.107006e-16</td>\n",
              "      <td>2.438409e-15</td>\n",
              "      <td>2.067384e-16</td>\n",
              "      <td>-1.078071e-15</td>\n",
              "      <td>-2.920613e-17</td>\n",
              "      <td>-2.549352e-16</td>\n",
              "      <td>2.129642e-01</td>\n",
              "      <td>1.000000e+00</td>\n",
              "      <td>0.087368</td>\n",
              "      <td>0.050525</td>\n",
              "      <td>0.069911</td>\n",
              "    </tr>\n",
              "    <tr>\n",
              "      <th>Heating Load</th>\n",
              "      <td>6.222722e-01</td>\n",
              "      <td>-6.581202e-01</td>\n",
              "      <td>4.556712e-01</td>\n",
              "      <td>-8.618283e-01</td>\n",
              "      <td>8.894307e-01</td>\n",
              "      <td>-2.586534e-03</td>\n",
              "      <td>2.698410e-01</td>\n",
              "      <td>8.736759e-02</td>\n",
              "      <td>1.000000</td>\n",
              "      <td>0.975862</td>\n",
              "      <td>0.994299</td>\n",
              "    </tr>\n",
              "    <tr>\n",
              "      <th>Cooling Load</th>\n",
              "      <td>6.343391e-01</td>\n",
              "      <td>-6.729989e-01</td>\n",
              "      <td>4.271170e-01</td>\n",
              "      <td>-8.625466e-01</td>\n",
              "      <td>8.957852e-01</td>\n",
              "      <td>1.428960e-02</td>\n",
              "      <td>2.075050e-01</td>\n",
              "      <td>5.052512e-02</td>\n",
              "      <td>0.975862</td>\n",
              "      <td>1.000000</td>\n",
              "      <td>0.993585</td>\n",
              "    </tr>\n",
              "    <tr>\n",
              "      <th>Overall Load</th>\n",
              "      <td>6.319499e-01</td>\n",
              "      <td>-6.693889e-01</td>\n",
              "      <td>4.445024e-01</td>\n",
              "      <td>-8.674227e-01</td>\n",
              "      <td>8.979448e-01</td>\n",
              "      <td>5.637309e-03</td>\n",
              "      <td>2.410480e-01</td>\n",
              "      <td>6.991125e-02</td>\n",
              "      <td>0.994299</td>\n",
              "      <td>0.993585</td>\n",
              "      <td>1.000000</td>\n",
              "    </tr>\n",
              "  </tbody>\n",
              "</table>\n",
              "</div>\n",
              "      <button class=\"colab-df-convert\" onclick=\"convertToInteractive('df-8abe8558-e76a-45c4-81e8-6a5f9d680d66')\"\n",
              "              title=\"Convert this dataframe to an interactive table.\"\n",
              "              style=\"display:none;\">\n",
              "        \n",
              "  <svg xmlns=\"http://www.w3.org/2000/svg\" height=\"24px\"viewBox=\"0 0 24 24\"\n",
              "       width=\"24px\">\n",
              "    <path d=\"M0 0h24v24H0V0z\" fill=\"none\"/>\n",
              "    <path d=\"M18.56 5.44l.94 2.06.94-2.06 2.06-.94-2.06-.94-.94-2.06-.94 2.06-2.06.94zm-11 1L8.5 8.5l.94-2.06 2.06-.94-2.06-.94L8.5 2.5l-.94 2.06-2.06.94zm10 10l.94 2.06.94-2.06 2.06-.94-2.06-.94-.94-2.06-.94 2.06-2.06.94z\"/><path d=\"M17.41 7.96l-1.37-1.37c-.4-.4-.92-.59-1.43-.59-.52 0-1.04.2-1.43.59L10.3 9.45l-7.72 7.72c-.78.78-.78 2.05 0 2.83L4 21.41c.39.39.9.59 1.41.59.51 0 1.02-.2 1.41-.59l7.78-7.78 2.81-2.81c.8-.78.8-2.07 0-2.86zM5.41 20L4 18.59l7.72-7.72 1.47 1.35L5.41 20z\"/>\n",
              "  </svg>\n",
              "      </button>\n",
              "      \n",
              "  <style>\n",
              "    .colab-df-container {\n",
              "      display:flex;\n",
              "      flex-wrap:wrap;\n",
              "      gap: 12px;\n",
              "    }\n",
              "\n",
              "    .colab-df-convert {\n",
              "      background-color: #E8F0FE;\n",
              "      border: none;\n",
              "      border-radius: 50%;\n",
              "      cursor: pointer;\n",
              "      display: none;\n",
              "      fill: #1967D2;\n",
              "      height: 32px;\n",
              "      padding: 0 0 0 0;\n",
              "      width: 32px;\n",
              "    }\n",
              "\n",
              "    .colab-df-convert:hover {\n",
              "      background-color: #E2EBFA;\n",
              "      box-shadow: 0px 1px 2px rgba(60, 64, 67, 0.3), 0px 1px 3px 1px rgba(60, 64, 67, 0.15);\n",
              "      fill: #174EA6;\n",
              "    }\n",
              "\n",
              "    [theme=dark] .colab-df-convert {\n",
              "      background-color: #3B4455;\n",
              "      fill: #D2E3FC;\n",
              "    }\n",
              "\n",
              "    [theme=dark] .colab-df-convert:hover {\n",
              "      background-color: #434B5C;\n",
              "      box-shadow: 0px 1px 3px 1px rgba(0, 0, 0, 0.15);\n",
              "      filter: drop-shadow(0px 1px 2px rgba(0, 0, 0, 0.3));\n",
              "      fill: #FFFFFF;\n",
              "    }\n",
              "  </style>\n",
              "\n",
              "      <script>\n",
              "        const buttonEl =\n",
              "          document.querySelector('#df-8abe8558-e76a-45c4-81e8-6a5f9d680d66 button.colab-df-convert');\n",
              "        buttonEl.style.display =\n",
              "          google.colab.kernel.accessAllowed ? 'block' : 'none';\n",
              "\n",
              "        async function convertToInteractive(key) {\n",
              "          const element = document.querySelector('#df-8abe8558-e76a-45c4-81e8-6a5f9d680d66');\n",
              "          const dataTable =\n",
              "            await google.colab.kernel.invokeFunction('convertToInteractive',\n",
              "                                                     [key], {});\n",
              "          if (!dataTable) return;\n",
              "\n",
              "          const docLinkHtml = 'Like what you see? Visit the ' +\n",
              "            '<a target=\"_blank\" href=https://colab.research.google.com/notebooks/data_table.ipynb>data table notebook</a>'\n",
              "            + ' to learn more about interactive tables.';\n",
              "          element.innerHTML = '';\n",
              "          dataTable['output_type'] = 'display_data';\n",
              "          await google.colab.output.renderOutput(dataTable, element);\n",
              "          const docLink = document.createElement('div');\n",
              "          docLink.innerHTML = docLinkHtml;\n",
              "          element.appendChild(docLink);\n",
              "        }\n",
              "      </script>\n",
              "    </div>\n",
              "  </div>\n",
              "  "
            ]
          },
          "metadata": {},
          "execution_count": 12
        }
      ],
      "source": [
        "#checking correlation\n",
        "data.corr()"
      ]
    },
    {
      "cell_type": "code",
      "execution_count": null,
      "metadata": {
        "colab": {
          "base_uri": "https://localhost:8080/",
          "height": 1000
        },
        "id": "B3a6FgrbxZAi",
        "outputId": "0c9746e2-721f-41f8-a0a9-4fd5cf22b533"
      },
      "outputs": [
        {
          "output_type": "execute_result",
          "data": {
            "text/plain": [
              "<seaborn.axisgrid.PairGrid at 0x7f709281ff50>"
            ]
          },
          "metadata": {},
          "execution_count": 13
        },
        {
          "output_type": "display_data",
          "data": {
            "text/plain": [
              "<Figure size 1980x1980 with 132 Axes>"
            ],
            "image/png": "[encoded data removed]"
          },
          "metadata": {
            "needs_background": "light"
          }
        }
      ],
      "source": [
        "#Pairplot checking\n",
        "sns.pairplot(data, kind=\"scatter\", diag_kind='kde')"
      ]
    },
    {
      "cell_type": "code",
      "execution_count": null,
      "metadata": {
        "colab": {
          "base_uri": "https://localhost:8080/",
          "height": 836
        },
        "id": "E9_heyWOxZAj",
        "outputId": "39b725e9-6283-4b70-9e1b-a394fa4e90fd"
      },
      "outputs": [
        {
          "output_type": "execute_result",
          "data": {
            "text/plain": [
              "<matplotlib.axes._subplots.AxesSubplot at 0x7f708e68d290>"
            ]
          },
          "metadata": {},
          "execution_count": 14
        },
        {
          "output_type": "display_data",
          "data": {
            "text/plain": [
              "<Figure size 1080x864 with 2 Axes>"
            ],
            "image/png": "[encoded data removed]"
          },
          "metadata": {
            "needs_background": "light"
          }
        }
      ],
      "source": [
        "#heatmap\n",
        "plt.subplots(figsize=(15,12))\n",
        "corr = data.corr()\n",
        "sns.heatmap(corr, annot=True,cmap=\"YlGnBu\")"
      ]
    },
    {
      "cell_type": "code",
      "execution_count": null,
      "metadata": {
        "colab": {
          "base_uri": "https://localhost:8080/",
          "height": 296
        },
        "id": "oXE0zVZdxZAm",
        "outputId": "1bc332c9-04d7-4b52-ed6e-ca7831d40244"
      },
      "outputs": [
        {
          "output_type": "execute_result",
          "data": {
            "text/plain": [
              "<matplotlib.axes._subplots.AxesSubplot at 0x7f708c309090>"
            ]
          },
          "metadata": {},
          "execution_count": 15
        },
        {
          "output_type": "display_data",
          "data": {
            "text/plain": [
              "<Figure size 432x288 with 1 Axes>"
            ],
            "image/png": "[encoded data removed]"
          },
          "metadata": {
            "needs_background": "light"
          }
        }
      ],
      "source": [
        "# Trend of  overall trend\n",
        "sns.distplot(data['Overall Load'])"
      ]
    },
    {
      "cell_type": "code",
      "source": [
        "# Checked Out for outliers\n",
        "plt.boxplot(data['Overall Load'])"
      ],
      "metadata": {
        "colab": {
          "base_uri": "https://localhost:8080/",
          "height": 404
        },
        "id": "8P0zCGn3G5S-",
        "outputId": "e675a99d-db1c-48a9-85d7-9f72aa562589"
      },
      "execution_count": null,
      "outputs": [
        {
          "output_type": "execute_result",
          "data": {
            "text/plain": [
              "{'whiskers': [<matplotlib.lines.Line2D at 0x7f708c244050>,\n",
              "  <matplotlib.lines.Line2D at 0x7f708c244590>],\n",
              " 'caps': [<matplotlib.lines.Line2D at 0x7f708c244ad0>,\n",
              "  <matplotlib.lines.Line2D at 0x7f708c1cd050>],\n",
              " 'boxes': [<matplotlib.lines.Line2D at 0x7f708c23e110>],\n",
              " 'medians': [<matplotlib.lines.Line2D at 0x7f708c1cd5d0>],\n",
              " 'fliers': [<matplotlib.lines.Line2D at 0x7f708c1cdb10>],\n",
              " 'means': []}"
            ]
          },
          "metadata": {},
          "execution_count": 16
        },
        {
          "output_type": "display_data",
          "data": {
            "text/plain": [
              "<Figure size 432x288 with 1 Axes>"
            ],
            "image/png": "[encoded data removed]"
          },
          "metadata": {
            "needs_background": "light"
          }
        }
      ]
    },
    {
      "cell_type": "code",
      "execution_count": null,
      "metadata": {
        "colab": {
          "base_uri": "https://localhost:8080/"
        },
        "id": "dMTN703fxZAn",
        "outputId": "31d8f9f2-49e8-4758-db5e-6161b55d9c15"
      },
      "outputs": [
        {
          "output_type": "execute_result",
          "data": {
            "text/plain": [
              "0.25    28.750\n",
              "0.50    40.970\n",
              "0.75    64.335\n",
              "Name: Overall Load, dtype: float64"
            ]
          },
          "metadata": {},
          "execution_count": 17
        }
      ],
      "source": [
        "# checking for the quantiles\n",
        "data['Overall Load'].quantile([.25, .50, 0.75])"
      ]
    },
    {
      "cell_type": "markdown",
      "metadata": {
        "id": "JARrFt43xZAo"
      },
      "source": [
        "Adding column for classes for efficiency"
      ]
    },
    {
      "cell_type": "code",
      "execution_count": null,
      "metadata": {
        "colab": {
          "base_uri": "https://localhost:8080/",
          "height": 250
        },
        "id": "SZDdLVIPxZAp",
        "outputId": "37954334-8999-479b-ab9f-db4d286dfea7"
      },
      "outputs": [
        {
          "output_type": "execute_result",
          "data": {
            "text/plain": [
              "   Relative Compactness  Surface Area  Wall Area  Roof Area  Overall Height  \\\n",
              "0                  0.98         514.5      294.0     110.25             7.0   \n",
              "1                  0.98         514.5      294.0     110.25             7.0   \n",
              "2                  0.98         514.5      294.0     110.25             7.0   \n",
              "3                  0.98         514.5      294.0     110.25             7.0   \n",
              "4                  0.90         563.5      318.5     122.50             7.0   \n",
              "\n",
              "   Orientation  Glazing Area  Glazing Area Distribution  Heating Load  \\\n",
              "0          2.0           0.0                        0.0         15.55   \n",
              "1          3.0           0.0                        0.0         15.55   \n",
              "2          4.0           0.0                        0.0         15.55   \n",
              "3          5.0           0.0                        0.0         15.55   \n",
              "4          2.0           0.0                        0.0         20.84   \n",
              "\n",
              "   Cooling Load  Overall Load Efficiency  \n",
              "0         21.33         36.88    Average  \n",
              "1         21.33         36.88    Average  \n",
              "2         21.33         36.88    Average  \n",
              "3         21.33         36.88    Average  \n",
              "4         28.28         49.12    Average  "
            ],
            "text/html": [
              "\n",
              "  <div id=\"df-f145338d-ac1c-4361-874b-f936e2645acb\">\n",
              "    <div class=\"colab-df-container\">\n",
              "      <div>\n",
              "<style scoped>\n",
              "    .dataframe tbody tr th:only-of-type {\n",
              "        vertical-align: middle;\n",
              "    }\n",
              "\n",
              "    .dataframe tbody tr th {\n",
              "        vertical-align: top;\n",
              "    }\n",
              "\n",
              "    .dataframe thead th {\n",
              "        text-align: right;\n",
              "    }\n",
              "</style>\n",
              "<table border=\"1\" class=\"dataframe\">\n",
              "  <thead>\n",
              "    <tr style=\"text-align: right;\">\n",
              "      <th></th>\n",
              "      <th>Relative Compactness</th>\n",
              "      <th>Surface Area</th>\n",
              "      <th>Wall Area</th>\n",
              "      <th>Roof Area</th>\n",
              "      <th>Overall Height</th>\n",
              "      <th>Orientation</th>\n",
              "      <th>Glazing Area</th>\n",
              "      <th>Glazing Area Distribution</th>\n",
              "      <th>Heating Load</th>\n",
              "      <th>Cooling Load</th>\n",
              "      <th>Overall Load</th>\n",
              "      <th>Efficiency</th>\n",
              "    </tr>\n",
              "  </thead>\n",
              "  <tbody>\n",
              "    <tr>\n",
              "      <th>0</th>\n",
              "      <td>0.98</td>\n",
              "      <td>514.5</td>\n",
              "      <td>294.0</td>\n",
              "      <td>110.25</td>\n",
              "      <td>7.0</td>\n",
              "      <td>2.0</td>\n",
              "      <td>0.0</td>\n",
              "      <td>0.0</td>\n",
              "      <td>15.55</td>\n",
              "      <td>21.33</td>\n",
              "      <td>36.88</td>\n",
              "      <td>Average</td>\n",
              "    </tr>\n",
              "    <tr>\n",
              "      <th>1</th>\n",
              "      <td>0.98</td>\n",
              "      <td>514.5</td>\n",
              "      <td>294.0</td>\n",
              "      <td>110.25</td>\n",
              "      <td>7.0</td>\n",
              "      <td>3.0</td>\n",
              "      <td>0.0</td>\n",
              "      <td>0.0</td>\n",
              "      <td>15.55</td>\n",
              "      <td>21.33</td>\n",
              "      <td>36.88</td>\n",
              "      <td>Average</td>\n",
              "    </tr>\n",
              "    <tr>\n",
              "      <th>2</th>\n",
              "      <td>0.98</td>\n",
              "      <td>514.5</td>\n",
              "      <td>294.0</td>\n",
              "      <td>110.25</td>\n",
              "      <td>7.0</td>\n",
              "      <td>4.0</td>\n",
              "      <td>0.0</td>\n",
              "      <td>0.0</td>\n",
              "      <td>15.55</td>\n",
              "      <td>21.33</td>\n",
              "      <td>36.88</td>\n",
              "      <td>Average</td>\n",
              "    </tr>\n",
              "    <tr>\n",
              "      <th>3</th>\n",
              "      <td>0.98</td>\n",
              "      <td>514.5</td>\n",
              "      <td>294.0</td>\n",
              "      <td>110.25</td>\n",
              "      <td>7.0</td>\n",
              "      <td>5.0</td>\n",
              "      <td>0.0</td>\n",
              "      <td>0.0</td>\n",
              "      <td>15.55</td>\n",
              "      <td>21.33</td>\n",
              "      <td>36.88</td>\n",
              "      <td>Average</td>\n",
              "    </tr>\n",
              "    <tr>\n",
              "      <th>4</th>\n",
              "      <td>0.90</td>\n",
              "      <td>563.5</td>\n",
              "      <td>318.5</td>\n",
              "      <td>122.50</td>\n",
              "      <td>7.0</td>\n",
              "      <td>2.0</td>\n",
              "      <td>0.0</td>\n",
              "      <td>0.0</td>\n",
              "      <td>20.84</td>\n",
              "      <td>28.28</td>\n",
              "      <td>49.12</td>\n",
              "      <td>Average</td>\n",
              "    </tr>\n",
              "  </tbody>\n",
              "</table>\n",
              "</div>\n",
              "      <button class=\"colab-df-convert\" onclick=\"convertToInteractive('df-f145338d-ac1c-4361-874b-f936e2645acb')\"\n",
              "              title=\"Convert this dataframe to an interactive table.\"\n",
              "              style=\"display:none;\">\n",
              "        \n",
              "  <svg xmlns=\"http://www.w3.org/2000/svg\" height=\"24px\"viewBox=\"0 0 24 24\"\n",
              "       width=\"24px\">\n",
              "    <path d=\"M0 0h24v24H0V0z\" fill=\"none\"/>\n",
              "    <path d=\"M18.56 5.44l.94 2.06.94-2.06 2.06-.94-2.06-.94-.94-2.06-.94 2.06-2.06.94zm-11 1L8.5 8.5l.94-2.06 2.06-.94-2.06-.94L8.5 2.5l-.94 2.06-2.06.94zm10 10l.94 2.06.94-2.06 2.06-.94-2.06-.94-.94-2.06-.94 2.06-2.06.94z\"/><path d=\"M17.41 7.96l-1.37-1.37c-.4-.4-.92-.59-1.43-.59-.52 0-1.04.2-1.43.59L10.3 9.45l-7.72 7.72c-.78.78-.78 2.05 0 2.83L4 21.41c.39.39.9.59 1.41.59.51 0 1.02-.2 1.41-.59l7.78-7.78 2.81-2.81c.8-.78.8-2.07 0-2.86zM5.41 20L4 18.59l7.72-7.72 1.47 1.35L5.41 20z\"/>\n",
              "  </svg>\n",
              "      </button>\n",
              "      \n",
              "  <style>\n",
              "    .colab-df-container {\n",
              "      display:flex;\n",
              "      flex-wrap:wrap;\n",
              "      gap: 12px;\n",
              "    }\n",
              "\n",
              "    .colab-df-convert {\n",
              "      background-color: #E8F0FE;\n",
              "      border: none;\n",
              "      border-radius: 50%;\n",
              "      cursor: pointer;\n",
              "      display: none;\n",
              "      fill: #1967D2;\n",
              "      height: 32px;\n",
              "      padding: 0 0 0 0;\n",
              "      width: 32px;\n",
              "    }\n",
              "\n",
              "    .colab-df-convert:hover {\n",
              "      background-color: #E2EBFA;\n",
              "      box-shadow: 0px 1px 2px rgba(60, 64, 67, 0.3), 0px 1px 3px 1px rgba(60, 64, 67, 0.15);\n",
              "      fill: #174EA6;\n",
              "    }\n",
              "\n",
              "    [theme=dark] .colab-df-convert {\n",
              "      background-color: #3B4455;\n",
              "      fill: #D2E3FC;\n",
              "    }\n",
              "\n",
              "    [theme=dark] .colab-df-convert:hover {\n",
              "      background-color: #434B5C;\n",
              "      box-shadow: 0px 1px 3px 1px rgba(0, 0, 0, 0.15);\n",
              "      filter: drop-shadow(0px 1px 2px rgba(0, 0, 0, 0.3));\n",
              "      fill: #FFFFFF;\n",
              "    }\n",
              "  </style>\n",
              "\n",
              "      <script>\n",
              "        const buttonEl =\n",
              "          document.querySelector('#df-f145338d-ac1c-4361-874b-f936e2645acb button.colab-df-convert');\n",
              "        buttonEl.style.display =\n",
              "          google.colab.kernel.accessAllowed ? 'block' : 'none';\n",
              "\n",
              "        async function convertToInteractive(key) {\n",
              "          const element = document.querySelector('#df-f145338d-ac1c-4361-874b-f936e2645acb');\n",
              "          const dataTable =\n",
              "            await google.colab.kernel.invokeFunction('convertToInteractive',\n",
              "                                                     [key], {});\n",
              "          if (!dataTable) return;\n",
              "\n",
              "          const docLinkHtml = 'Like what you see? Visit the ' +\n",
              "            '<a target=\"_blank\" href=https://colab.research.google.com/notebooks/data_table.ipynb>data table notebook</a>'\n",
              "            + ' to learn more about interactive tables.';\n",
              "          element.innerHTML = '';\n",
              "          dataTable['output_type'] = 'display_data';\n",
              "          await google.colab.output.renderOutput(dataTable, element);\n",
              "          const docLink = document.createElement('div');\n",
              "          docLink.innerHTML = docLinkHtml;\n",
              "          element.appendChild(docLink);\n",
              "        }\n",
              "      </script>\n",
              "    </div>\n",
              "  </div>\n",
              "  "
            ]
          },
          "metadata": {},
          "execution_count": 18
        }
      ],
      "source": [
        "data['Efficiency'] = np.where(data['Overall Load']<29, 'Low', np.where(data['Overall Load']<64, 'Average', 'High'))\n",
        "data.head()"
      ]
    },
    {
      "cell_type": "code",
      "execution_count": null,
      "metadata": {
        "colab": {
          "base_uri": "https://localhost:8080/"
        },
        "id": "zh1crK04xZAq",
        "outputId": "e27b1864-a8d9-4ac1-e1b0-15bfee4232aa"
      },
      "outputs": [
        {
          "output_type": "execute_result",
          "data": {
            "text/plain": [
              "(768, 12)"
            ]
          },
          "metadata": {},
          "execution_count": 19
        }
      ],
      "source": [
        "data.shape"
      ]
    },
    {
      "cell_type": "code",
      "execution_count": null,
      "metadata": {
        "colab": {
          "base_uri": "https://localhost:8080/"
        },
        "id": "yth3QkCzxZAr",
        "outputId": "231b7cea-e80e-432d-a442-65cbfd71d868"
      },
      "outputs": [
        {
          "output_type": "execute_result",
          "data": {
            "text/plain": [
              "Average    368\n",
              "Low        207\n",
              "High       193\n",
              "Name: Efficiency, dtype: int64"
            ]
          },
          "metadata": {},
          "execution_count": 20
        }
      ],
      "source": [
        "data['Efficiency'].value_counts()"
      ]
    },
    {
      "cell_type": "code",
      "execution_count": null,
      "metadata": {
        "colab": {
          "base_uri": "https://localhost:8080/",
          "height": 296
        },
        "id": "xgX4mBfWxZAr",
        "outputId": "a5503714-8e12-48c1-ed4a-3d32d4d492f1"
      },
      "outputs": [
        {
          "output_type": "execute_result",
          "data": {
            "text/plain": [
              "<matplotlib.axes._subplots.AxesSubplot at 0x7f708c1f8610>"
            ]
          },
          "metadata": {},
          "execution_count": 21
        },
        {
          "output_type": "display_data",
          "data": {
            "text/plain": [
              "<Figure size 432x288 with 1 Axes>"
            ],
            "image/png": "[encoded data removed]"
          },
          "metadata": {
            "needs_background": "light"
          }
        }
      ],
      "source": [
        "sns.countplot(x='Efficiency', data=data, order=['Low','Average','High'])"
      ]
    },
    {
      "cell_type": "markdown",
      "metadata": {
        "id": "cvc-zzAWxZAs"
      },
      "source": [
        "## Creating different datasets for different Y variables"
      ]
    },
    {
      "cell_type": "markdown",
      "metadata": {
        "id": "f1N9-N1LxZAu"
      },
      "source": [
        "## Data set for heating load"
      ]
    },
    {
      "cell_type": "code",
      "execution_count": null,
      "metadata": {
        "id": "W7oVFluzxZAv"
      },
      "outputs": [],
      "source": [
        "data_heat = data.drop(columns=['Cooling Load','Overall Load','Efficiency'])"
      ]
    },
    {
      "cell_type": "code",
      "execution_count": null,
      "metadata": {
        "colab": {
          "base_uri": "https://localhost:8080/",
          "height": 206
        },
        "id": "Vl0PjY1-xZAv",
        "outputId": "35778912-e93a-4693-beb9-d28794987e92"
      },
      "outputs": [
        {
          "output_type": "execute_result",
          "data": {
            "text/plain": [
              "   Relative Compactness  Surface Area  Wall Area  Roof Area  Overall Height  \\\n",
              "0                  0.98         514.5      294.0     110.25             7.0   \n",
              "1                  0.98         514.5      294.0     110.25             7.0   \n",
              "2                  0.98         514.5      294.0     110.25             7.0   \n",
              "3                  0.98         514.5      294.0     110.25             7.0   \n",
              "4                  0.90         563.5      318.5     122.50             7.0   \n",
              "\n",
              "   Orientation  Glazing Area  Glazing Area Distribution  Heating Load  \n",
              "0          2.0           0.0                        0.0         15.55  \n",
              "1          3.0           0.0                        0.0         15.55  \n",
              "2          4.0           0.0                        0.0         15.55  \n",
              "3          5.0           0.0                        0.0         15.55  \n",
              "4          2.0           0.0                        0.0         20.84  "
            ],
            "text/html": [
              "\n",
              "  <div id=\"df-27a320c6-61d0-4c6d-aaf5-c92a0b2147c6\">\n",
              "    <div class=\"colab-df-container\">\n",
              "      <div>\n",
              "<style scoped>\n",
              "    .dataframe tbody tr th:only-of-type {\n",
              "        vertical-align: middle;\n",
              "    }\n",
              "\n",
              "    .dataframe tbody tr th {\n",
              "        vertical-align: top;\n",
              "    }\n",
              "\n",
              "    .dataframe thead th {\n",
              "        text-align: right;\n",
              "    }\n",
              "</style>\n",
              "<table border=\"1\" class=\"dataframe\">\n",
              "  <thead>\n",
              "    <tr style=\"text-align: right;\">\n",
              "      <th></th>\n",
              "      <th>Relative Compactness</th>\n",
              "      <th>Surface Area</th>\n",
              "      <th>Wall Area</th>\n",
              "      <th>Roof Area</th>\n",
              "      <th>Overall Height</th>\n",
              "      <th>Orientation</th>\n",
              "      <th>Glazing Area</th>\n",
              "      <th>Glazing Area Distribution</th>\n",
              "      <th>Heating Load</th>\n",
              "    </tr>\n",
              "  </thead>\n",
              "  <tbody>\n",
              "    <tr>\n",
              "      <th>0</th>\n",
              "      <td>0.98</td>\n",
              "      <td>514.5</td>\n",
              "      <td>294.0</td>\n",
              "      <td>110.25</td>\n",
              "      <td>7.0</td>\n",
              "      <td>2.0</td>\n",
              "      <td>0.0</td>\n",
              "      <td>0.0</td>\n",
              "      <td>15.55</td>\n",
              "    </tr>\n",
              "    <tr>\n",
              "      <th>1</th>\n",
              "      <td>0.98</td>\n",
              "      <td>514.5</td>\n",
              "      <td>294.0</td>\n",
              "      <td>110.25</td>\n",
              "      <td>7.0</td>\n",
              "      <td>3.0</td>\n",
              "      <td>0.0</td>\n",
              "      <td>0.0</td>\n",
              "      <td>15.55</td>\n",
              "    </tr>\n",
              "    <tr>\n",
              "      <th>2</th>\n",
              "      <td>0.98</td>\n",
              "      <td>514.5</td>\n",
              "      <td>294.0</td>\n",
              "      <td>110.25</td>\n",
              "      <td>7.0</td>\n",
              "      <td>4.0</td>\n",
              "      <td>0.0</td>\n",
              "      <td>0.0</td>\n",
              "      <td>15.55</td>\n",
              "    </tr>\n",
              "    <tr>\n",
              "      <th>3</th>\n",
              "      <td>0.98</td>\n",
              "      <td>514.5</td>\n",
              "      <td>294.0</td>\n",
              "      <td>110.25</td>\n",
              "      <td>7.0</td>\n",
              "      <td>5.0</td>\n",
              "      <td>0.0</td>\n",
              "      <td>0.0</td>\n",
              "      <td>15.55</td>\n",
              "    </tr>\n",
              "    <tr>\n",
              "      <th>4</th>\n",
              "      <td>0.90</td>\n",
              "      <td>563.5</td>\n",
              "      <td>318.5</td>\n",
              "      <td>122.50</td>\n",
              "      <td>7.0</td>\n",
              "      <td>2.0</td>\n",
              "      <td>0.0</td>\n",
              "      <td>0.0</td>\n",
              "      <td>20.84</td>\n",
              "    </tr>\n",
              "  </tbody>\n",
              "</table>\n",
              "</div>\n",
              "      <button class=\"colab-df-convert\" onclick=\"convertToInteractive('df-27a320c6-61d0-4c6d-aaf5-c92a0b2147c6')\"\n",
              "              title=\"Convert this dataframe to an interactive table.\"\n",
              "              style=\"display:none;\">\n",
              "        \n",
              "  <svg xmlns=\"http://www.w3.org/2000/svg\" height=\"24px\"viewBox=\"0 0 24 24\"\n",
              "       width=\"24px\">\n",
              "    <path d=\"M0 0h24v24H0V0z\" fill=\"none\"/>\n",
              "    <path d=\"M18.56 5.44l.94 2.06.94-2.06 2.06-.94-2.06-.94-.94-2.06-.94 2.06-2.06.94zm-11 1L8.5 8.5l.94-2.06 2.06-.94-2.06-.94L8.5 2.5l-.94 2.06-2.06.94zm10 10l.94 2.06.94-2.06 2.06-.94-2.06-.94-.94-2.06-.94 2.06-2.06.94z\"/><path d=\"M17.41 7.96l-1.37-1.37c-.4-.4-.92-.59-1.43-.59-.52 0-1.04.2-1.43.59L10.3 9.45l-7.72 7.72c-.78.78-.78 2.05 0 2.83L4 21.41c.39.39.9.59 1.41.59.51 0 1.02-.2 1.41-.59l7.78-7.78 2.81-2.81c.8-.78.8-2.07 0-2.86zM5.41 20L4 18.59l7.72-7.72 1.47 1.35L5.41 20z\"/>\n",
              "  </svg>\n",
              "      </button>\n",
              "      \n",
              "  <style>\n",
              "    .colab-df-container {\n",
              "      display:flex;\n",
              "      flex-wrap:wrap;\n",
              "      gap: 12px;\n",
              "    }\n",
              "\n",
              "    .colab-df-convert {\n",
              "      background-color: #E8F0FE;\n",
              "      border: none;\n",
              "      border-radius: 50%;\n",
              "      cursor: pointer;\n",
              "      display: none;\n",
              "      fill: #1967D2;\n",
              "      height: 32px;\n",
              "      padding: 0 0 0 0;\n",
              "      width: 32px;\n",
              "    }\n",
              "\n",
              "    .colab-df-convert:hover {\n",
              "      background-color: #E2EBFA;\n",
              "      box-shadow: 0px 1px 2px rgba(60, 64, 67, 0.3), 0px 1px 3px 1px rgba(60, 64, 67, 0.15);\n",
              "      fill: #174EA6;\n",
              "    }\n",
              "\n",
              "    [theme=dark] .colab-df-convert {\n",
              "      background-color: #3B4455;\n",
              "      fill: #D2E3FC;\n",
              "    }\n",
              "\n",
              "    [theme=dark] .colab-df-convert:hover {\n",
              "      background-color: #434B5C;\n",
              "      box-shadow: 0px 1px 3px 1px rgba(0, 0, 0, 0.15);\n",
              "      filter: drop-shadow(0px 1px 2px rgba(0, 0, 0, 0.3));\n",
              "      fill: #FFFFFF;\n",
              "    }\n",
              "  </style>\n",
              "\n",
              "      <script>\n",
              "        const buttonEl =\n",
              "          document.querySelector('#df-27a320c6-61d0-4c6d-aaf5-c92a0b2147c6 button.colab-df-convert');\n",
              "        buttonEl.style.display =\n",
              "          google.colab.kernel.accessAllowed ? 'block' : 'none';\n",
              "\n",
              "        async function convertToInteractive(key) {\n",
              "          const element = document.querySelector('#df-27a320c6-61d0-4c6d-aaf5-c92a0b2147c6');\n",
              "          const dataTable =\n",
              "            await google.colab.kernel.invokeFunction('convertToInteractive',\n",
              "                                                     [key], {});\n",
              "          if (!dataTable) return;\n",
              "\n",
              "          const docLinkHtml = 'Like what you see? Visit the ' +\n",
              "            '<a target=\"_blank\" href=https://colab.research.google.com/notebooks/data_table.ipynb>data table notebook</a>'\n",
              "            + ' to learn more about interactive tables.';\n",
              "          element.innerHTML = '';\n",
              "          dataTable['output_type'] = 'display_data';\n",
              "          await google.colab.output.renderOutput(dataTable, element);\n",
              "          const docLink = document.createElement('div');\n",
              "          docLink.innerHTML = docLinkHtml;\n",
              "          element.appendChild(docLink);\n",
              "        }\n",
              "      </script>\n",
              "    </div>\n",
              "  </div>\n",
              "  "
            ]
          },
          "metadata": {},
          "execution_count": 23
        }
      ],
      "source": [
        "data_heat.head()"
      ]
    },
    {
      "cell_type": "code",
      "execution_count": null,
      "metadata": {
        "colab": {
          "base_uri": "https://localhost:8080/"
        },
        "id": "USLGBIf0xZAw",
        "outputId": "96bb5725-e8c9-4cc2-9e99-b6a7821c95ce"
      },
      "outputs": [
        {
          "output_type": "execute_result",
          "data": {
            "text/plain": [
              "(768, 9)"
            ]
          },
          "metadata": {},
          "execution_count": 24
        }
      ],
      "source": [
        "data_heat.shape"
      ]
    },
    {
      "cell_type": "markdown",
      "metadata": {
        "id": "qotwRq4TxZAw"
      },
      "source": [
        "## Data set for cooling load"
      ]
    },
    {
      "cell_type": "code",
      "execution_count": null,
      "metadata": {
        "colab": {
          "base_uri": "https://localhost:8080/",
          "height": 206
        },
        "id": "CMc5QK3CxZAx",
        "outputId": "a4341595-3c5e-4c86-ca8b-c93ce815dc56"
      },
      "outputs": [
        {
          "output_type": "execute_result",
          "data": {
            "text/plain": [
              "   Relative Compactness  Surface Area  Wall Area  Roof Area  Overall Height  \\\n",
              "0                  0.98         514.5      294.0     110.25             7.0   \n",
              "1                  0.98         514.5      294.0     110.25             7.0   \n",
              "2                  0.98         514.5      294.0     110.25             7.0   \n",
              "3                  0.98         514.5      294.0     110.25             7.0   \n",
              "4                  0.90         563.5      318.5     122.50             7.0   \n",
              "\n",
              "   Orientation  Glazing Area  Glazing Area Distribution  Cooling Load  \n",
              "0          2.0           0.0                        0.0         21.33  \n",
              "1          3.0           0.0                        0.0         21.33  \n",
              "2          4.0           0.0                        0.0         21.33  \n",
              "3          5.0           0.0                        0.0         21.33  \n",
              "4          2.0           0.0                        0.0         28.28  "
            ],
            "text/html": [
              "\n",
              "  <div id=\"df-dc0edd19-ffc4-4ede-8e91-391af706642a\">\n",
              "    <div class=\"colab-df-container\">\n",
              "      <div>\n",
              "<style scoped>\n",
              "    .dataframe tbody tr th:only-of-type {\n",
              "        vertical-align: middle;\n",
              "    }\n",
              "\n",
              "    .dataframe tbody tr th {\n",
              "        vertical-align: top;\n",
              "    }\n",
              "\n",
              "    .dataframe thead th {\n",
              "        text-align: right;\n",
              "    }\n",
              "</style>\n",
              "<table border=\"1\" class=\"dataframe\">\n",
              "  <thead>\n",
              "    <tr style=\"text-align: right;\">\n",
              "      <th></th>\n",
              "      <th>Relative Compactness</th>\n",
              "      <th>Surface Area</th>\n",
              "      <th>Wall Area</th>\n",
              "      <th>Roof Area</th>\n",
              "      <th>Overall Height</th>\n",
              "      <th>Orientation</th>\n",
              "      <th>Glazing Area</th>\n",
              "      <th>Glazing Area Distribution</th>\n",
              "      <th>Cooling Load</th>\n",
              "    </tr>\n",
              "  </thead>\n",
              "  <tbody>\n",
              "    <tr>\n",
              "      <th>0</th>\n",
              "      <td>0.98</td>\n",
              "      <td>514.5</td>\n",
              "      <td>294.0</td>\n",
              "      <td>110.25</td>\n",
              "      <td>7.0</td>\n",
              "      <td>2.0</td>\n",
              "      <td>0.0</td>\n",
              "      <td>0.0</td>\n",
              "      <td>21.33</td>\n",
              "    </tr>\n",
              "    <tr>\n",
              "      <th>1</th>\n",
              "      <td>0.98</td>\n",
              "      <td>514.5</td>\n",
              "      <td>294.0</td>\n",
              "      <td>110.25</td>\n",
              "      <td>7.0</td>\n",
              "      <td>3.0</td>\n",
              "      <td>0.0</td>\n",
              "      <td>0.0</td>\n",
              "      <td>21.33</td>\n",
              "    </tr>\n",
              "    <tr>\n",
              "      <th>2</th>\n",
              "      <td>0.98</td>\n",
              "      <td>514.5</td>\n",
              "      <td>294.0</td>\n",
              "      <td>110.25</td>\n",
              "      <td>7.0</td>\n",
              "      <td>4.0</td>\n",
              "      <td>0.0</td>\n",
              "      <td>0.0</td>\n",
              "      <td>21.33</td>\n",
              "    </tr>\n",
              "    <tr>\n",
              "      <th>3</th>\n",
              "      <td>0.98</td>\n",
              "      <td>514.5</td>\n",
              "      <td>294.0</td>\n",
              "      <td>110.25</td>\n",
              "      <td>7.0</td>\n",
              "      <td>5.0</td>\n",
              "      <td>0.0</td>\n",
              "      <td>0.0</td>\n",
              "      <td>21.33</td>\n",
              "    </tr>\n",
              "    <tr>\n",
              "      <th>4</th>\n",
              "      <td>0.90</td>\n",
              "      <td>563.5</td>\n",
              "      <td>318.5</td>\n",
              "      <td>122.50</td>\n",
              "      <td>7.0</td>\n",
              "      <td>2.0</td>\n",
              "      <td>0.0</td>\n",
              "      <td>0.0</td>\n",
              "      <td>28.28</td>\n",
              "    </tr>\n",
              "  </tbody>\n",
              "</table>\n",
              "</div>\n",
              "      <button class=\"colab-df-convert\" onclick=\"convertToInteractive('df-dc0edd19-ffc4-4ede-8e91-391af706642a')\"\n",
              "              title=\"Convert this dataframe to an interactive table.\"\n",
              "              style=\"display:none;\">\n",
              "        \n",
              "  <svg xmlns=\"http://www.w3.org/2000/svg\" height=\"24px\"viewBox=\"0 0 24 24\"\n",
              "       width=\"24px\">\n",
              "    <path d=\"M0 0h24v24H0V0z\" fill=\"none\"/>\n",
              "    <path d=\"M18.56 5.44l.94 2.06.94-2.06 2.06-.94-2.06-.94-.94-2.06-.94 2.06-2.06.94zm-11 1L8.5 8.5l.94-2.06 2.06-.94-2.06-.94L8.5 2.5l-.94 2.06-2.06.94zm10 10l.94 2.06.94-2.06 2.06-.94-2.06-.94-.94-2.06-.94 2.06-2.06.94z\"/><path d=\"M17.41 7.96l-1.37-1.37c-.4-.4-.92-.59-1.43-.59-.52 0-1.04.2-1.43.59L10.3 9.45l-7.72 7.72c-.78.78-.78 2.05 0 2.83L4 21.41c.39.39.9.59 1.41.59.51 0 1.02-.2 1.41-.59l7.78-7.78 2.81-2.81c.8-.78.8-2.07 0-2.86zM5.41 20L4 18.59l7.72-7.72 1.47 1.35L5.41 20z\"/>\n",
              "  </svg>\n",
              "      </button>\n",
              "      \n",
              "  <style>\n",
              "    .colab-df-container {\n",
              "      display:flex;\n",
              "      flex-wrap:wrap;\n",
              "      gap: 12px;\n",
              "    }\n",
              "\n",
              "    .colab-df-convert {\n",
              "      background-color: #E8F0FE;\n",
              "      border: none;\n",
              "      border-radius: 50%;\n",
              "      cursor: pointer;\n",
              "      display: none;\n",
              "      fill: #1967D2;\n",
              "      height: 32px;\n",
              "      padding: 0 0 0 0;\n",
              "      width: 32px;\n",
              "    }\n",
              "\n",
              "    .colab-df-convert:hover {\n",
              "      background-color: #E2EBFA;\n",
              "      box-shadow: 0px 1px 2px rgba(60, 64, 67, 0.3), 0px 1px 3px 1px rgba(60, 64, 67, 0.15);\n",
              "      fill: #174EA6;\n",
              "    }\n",
              "\n",
              "    [theme=dark] .colab-df-convert {\n",
              "      background-color: #3B4455;\n",
              "      fill: #D2E3FC;\n",
              "    }\n",
              "\n",
              "    [theme=dark] .colab-df-convert:hover {\n",
              "      background-color: #434B5C;\n",
              "      box-shadow: 0px 1px 3px 1px rgba(0, 0, 0, 0.15);\n",
              "      filter: drop-shadow(0px 1px 2px rgba(0, 0, 0, 0.3));\n",
              "      fill: #FFFFFF;\n",
              "    }\n",
              "  </style>\n",
              "\n",
              "      <script>\n",
              "        const buttonEl =\n",
              "          document.querySelector('#df-dc0edd19-ffc4-4ede-8e91-391af706642a button.colab-df-convert');\n",
              "        buttonEl.style.display =\n",
              "          google.colab.kernel.accessAllowed ? 'block' : 'none';\n",
              "\n",
              "        async function convertToInteractive(key) {\n",
              "          const element = document.querySelector('#df-dc0edd19-ffc4-4ede-8e91-391af706642a');\n",
              "          const dataTable =\n",
              "            await google.colab.kernel.invokeFunction('convertToInteractive',\n",
              "                                                     [key], {});\n",
              "          if (!dataTable) return;\n",
              "\n",
              "          const docLinkHtml = 'Like what you see? Visit the ' +\n",
              "            '<a target=\"_blank\" href=https://colab.research.google.com/notebooks/data_table.ipynb>data table notebook</a>'\n",
              "            + ' to learn more about interactive tables.';\n",
              "          element.innerHTML = '';\n",
              "          dataTable['output_type'] = 'display_data';\n",
              "          await google.colab.output.renderOutput(dataTable, element);\n",
              "          const docLink = document.createElement('div');\n",
              "          docLink.innerHTML = docLinkHtml;\n",
              "          element.appendChild(docLink);\n",
              "        }\n",
              "      </script>\n",
              "    </div>\n",
              "  </div>\n",
              "  "
            ]
          },
          "metadata": {},
          "execution_count": 25
        }
      ],
      "source": [
        "data_cool = data.drop(columns=['Heating Load','Overall Load','Efficiency'])\n",
        "data_cool.head()"
      ]
    },
    {
      "cell_type": "code",
      "execution_count": null,
      "metadata": {
        "colab": {
          "base_uri": "https://localhost:8080/"
        },
        "id": "rR4De6mmxZAx",
        "outputId": "1f8bd304-d11c-4286-cef1-1f5d65c66cc8"
      },
      "outputs": [
        {
          "output_type": "execute_result",
          "data": {
            "text/plain": [
              "(768, 9)"
            ]
          },
          "metadata": {},
          "execution_count": 26
        }
      ],
      "source": [
        "data_cool.shape"
      ]
    },
    {
      "cell_type": "markdown",
      "metadata": {
        "id": "EL2DWZ7JxZAy"
      },
      "source": [
        "## Data set for efficiency classification"
      ]
    },
    {
      "cell_type": "code",
      "execution_count": null,
      "metadata": {
        "colab": {
          "base_uri": "https://localhost:8080/",
          "height": 206
        },
        "id": "VQ6Br_1DxZAy",
        "outputId": "072c2cd4-9343-43fe-bd24-2119a08f5b1b"
      },
      "outputs": [
        {
          "output_type": "execute_result",
          "data": {
            "text/plain": [
              "   Relative Compactness  Surface Area  Wall Area  Roof Area  Overall Height  \\\n",
              "0                  0.98         514.5      294.0     110.25             7.0   \n",
              "1                  0.98         514.5      294.0     110.25             7.0   \n",
              "2                  0.98         514.5      294.0     110.25             7.0   \n",
              "3                  0.98         514.5      294.0     110.25             7.0   \n",
              "4                  0.90         563.5      318.5     122.50             7.0   \n",
              "\n",
              "   Orientation  Glazing Area  Glazing Area Distribution Efficiency  \n",
              "0          2.0           0.0                        0.0    Average  \n",
              "1          3.0           0.0                        0.0    Average  \n",
              "2          4.0           0.0                        0.0    Average  \n",
              "3          5.0           0.0                        0.0    Average  \n",
              "4          2.0           0.0                        0.0    Average  "
            ],
            "text/html": [
              "\n",
              "  <div id=\"df-a42bc197-a384-4ff5-ac7d-2f447b4c6d3a\">\n",
              "    <div class=\"colab-df-container\">\n",
              "      <div>\n",
              "<style scoped>\n",
              "    .dataframe tbody tr th:only-of-type {\n",
              "        vertical-align: middle;\n",
              "    }\n",
              "\n",
              "    .dataframe tbody tr th {\n",
              "        vertical-align: top;\n",
              "    }\n",
              "\n",
              "    .dataframe thead th {\n",
              "        text-align: right;\n",
              "    }\n",
              "</style>\n",
              "<table border=\"1\" class=\"dataframe\">\n",
              "  <thead>\n",
              "    <tr style=\"text-align: right;\">\n",
              "      <th></th>\n",
              "      <th>Relative Compactness</th>\n",
              "      <th>Surface Area</th>\n",
              "      <th>Wall Area</th>\n",
              "      <th>Roof Area</th>\n",
              "      <th>Overall Height</th>\n",
              "      <th>Orientation</th>\n",
              "      <th>Glazing Area</th>\n",
              "      <th>Glazing Area Distribution</th>\n",
              "      <th>Efficiency</th>\n",
              "    </tr>\n",
              "  </thead>\n",
              "  <tbody>\n",
              "    <tr>\n",
              "      <th>0</th>\n",
              "      <td>0.98</td>\n",
              "      <td>514.5</td>\n",
              "      <td>294.0</td>\n",
              "      <td>110.25</td>\n",
              "      <td>7.0</td>\n",
              "      <td>2.0</td>\n",
              "      <td>0.0</td>\n",
              "      <td>0.0</td>\n",
              "      <td>Average</td>\n",
              "    </tr>\n",
              "    <tr>\n",
              "      <th>1</th>\n",
              "      <td>0.98</td>\n",
              "      <td>514.5</td>\n",
              "      <td>294.0</td>\n",
              "      <td>110.25</td>\n",
              "      <td>7.0</td>\n",
              "      <td>3.0</td>\n",
              "      <td>0.0</td>\n",
              "      <td>0.0</td>\n",
              "      <td>Average</td>\n",
              "    </tr>\n",
              "    <tr>\n",
              "      <th>2</th>\n",
              "      <td>0.98</td>\n",
              "      <td>514.5</td>\n",
              "      <td>294.0</td>\n",
              "      <td>110.25</td>\n",
              "      <td>7.0</td>\n",
              "      <td>4.0</td>\n",
              "      <td>0.0</td>\n",
              "      <td>0.0</td>\n",
              "      <td>Average</td>\n",
              "    </tr>\n",
              "    <tr>\n",
              "      <th>3</th>\n",
              "      <td>0.98</td>\n",
              "      <td>514.5</td>\n",
              "      <td>294.0</td>\n",
              "      <td>110.25</td>\n",
              "      <td>7.0</td>\n",
              "      <td>5.0</td>\n",
              "      <td>0.0</td>\n",
              "      <td>0.0</td>\n",
              "      <td>Average</td>\n",
              "    </tr>\n",
              "    <tr>\n",
              "      <th>4</th>\n",
              "      <td>0.90</td>\n",
              "      <td>563.5</td>\n",
              "      <td>318.5</td>\n",
              "      <td>122.50</td>\n",
              "      <td>7.0</td>\n",
              "      <td>2.0</td>\n",
              "      <td>0.0</td>\n",
              "      <td>0.0</td>\n",
              "      <td>Average</td>\n",
              "    </tr>\n",
              "  </tbody>\n",
              "</table>\n",
              "</div>\n",
              "      <button class=\"colab-df-convert\" onclick=\"convertToInteractive('df-a42bc197-a384-4ff5-ac7d-2f447b4c6d3a')\"\n",
              "              title=\"Convert this dataframe to an interactive table.\"\n",
              "              style=\"display:none;\">\n",
              "        \n",
              "  <svg xmlns=\"http://www.w3.org/2000/svg\" height=\"24px\"viewBox=\"0 0 24 24\"\n",
              "       width=\"24px\">\n",
              "    <path d=\"M0 0h24v24H0V0z\" fill=\"none\"/>\n",
              "    <path d=\"M18.56 5.44l.94 2.06.94-2.06 2.06-.94-2.06-.94-.94-2.06-.94 2.06-2.06.94zm-11 1L8.5 8.5l.94-2.06 2.06-.94-2.06-.94L8.5 2.5l-.94 2.06-2.06.94zm10 10l.94 2.06.94-2.06 2.06-.94-2.06-.94-.94-2.06-.94 2.06-2.06.94z\"/><path d=\"M17.41 7.96l-1.37-1.37c-.4-.4-.92-.59-1.43-.59-.52 0-1.04.2-1.43.59L10.3 9.45l-7.72 7.72c-.78.78-.78 2.05 0 2.83L4 21.41c.39.39.9.59 1.41.59.51 0 1.02-.2 1.41-.59l7.78-7.78 2.81-2.81c.8-.78.8-2.07 0-2.86zM5.41 20L4 18.59l7.72-7.72 1.47 1.35L5.41 20z\"/>\n",
              "  </svg>\n",
              "      </button>\n",
              "      \n",
              "  <style>\n",
              "    .colab-df-container {\n",
              "      display:flex;\n",
              "      flex-wrap:wrap;\n",
              "      gap: 12px;\n",
              "    }\n",
              "\n",
              "    .colab-df-convert {\n",
              "      background-color: #E8F0FE;\n",
              "      border: none;\n",
              "      border-radius: 50%;\n",
              "      cursor: pointer;\n",
              "      display: none;\n",
              "      fill: #1967D2;\n",
              "      height: 32px;\n",
              "      padding: 0 0 0 0;\n",
              "      width: 32px;\n",
              "    }\n",
              "\n",
              "    .colab-df-convert:hover {\n",
              "      background-color: #E2EBFA;\n",
              "      box-shadow: 0px 1px 2px rgba(60, 64, 67, 0.3), 0px 1px 3px 1px rgba(60, 64, 67, 0.15);\n",
              "      fill: #174EA6;\n",
              "    }\n",
              "\n",
              "    [theme=dark] .colab-df-convert {\n",
              "      background-color: #3B4455;\n",
              "      fill: #D2E3FC;\n",
              "    }\n",
              "\n",
              "    [theme=dark] .colab-df-convert:hover {\n",
              "      background-color: #434B5C;\n",
              "      box-shadow: 0px 1px 3px 1px rgba(0, 0, 0, 0.15);\n",
              "      filter: drop-shadow(0px 1px 2px rgba(0, 0, 0, 0.3));\n",
              "      fill: #FFFFFF;\n",
              "    }\n",
              "  </style>\n",
              "\n",
              "      <script>\n",
              "        const buttonEl =\n",
              "          document.querySelector('#df-a42bc197-a384-4ff5-ac7d-2f447b4c6d3a button.colab-df-convert');\n",
              "        buttonEl.style.display =\n",
              "          google.colab.kernel.accessAllowed ? 'block' : 'none';\n",
              "\n",
              "        async function convertToInteractive(key) {\n",
              "          const element = document.querySelector('#df-a42bc197-a384-4ff5-ac7d-2f447b4c6d3a');\n",
              "          const dataTable =\n",
              "            await google.colab.kernel.invokeFunction('convertToInteractive',\n",
              "                                                     [key], {});\n",
              "          if (!dataTable) return;\n",
              "\n",
              "          const docLinkHtml = 'Like what you see? Visit the ' +\n",
              "            '<a target=\"_blank\" href=https://colab.research.google.com/notebooks/data_table.ipynb>data table notebook</a>'\n",
              "            + ' to learn more about interactive tables.';\n",
              "          element.innerHTML = '';\n",
              "          dataTable['output_type'] = 'display_data';\n",
              "          await google.colab.output.renderOutput(dataTable, element);\n",
              "          const docLink = document.createElement('div');\n",
              "          docLink.innerHTML = docLinkHtml;\n",
              "          element.appendChild(docLink);\n",
              "        }\n",
              "      </script>\n",
              "    </div>\n",
              "  </div>\n",
              "  "
            ]
          },
          "metadata": {},
          "execution_count": 27
        }
      ],
      "source": [
        "data_eff = data.drop(columns=['Cooling Load','Heating Load','Overall Load'])\n",
        "data_eff.head()"
      ]
    },
    {
      "cell_type": "markdown",
      "metadata": {
        "id": "w3oxtZ-jxZAz"
      },
      "source": [
        "## Models for predicting heating load"
      ]
    },
    {
      "cell_type": "markdown",
      "metadata": {
        "id": "o1rl66fXxZAz"
      },
      "source": [
        "## Data preprocessing"
      ]
    },
    {
      "cell_type": "code",
      "execution_count": null,
      "metadata": {
        "id": "xUgjV5qUxZA0"
      },
      "outputs": [],
      "source": [
        "X = data_heat.drop(columns=['Heating Load'])\n",
        "y= data_heat['Heating Load']"
      ]
    },
    {
      "cell_type": "code",
      "execution_count": null,
      "metadata": {
        "colab": {
          "base_uri": "https://localhost:8080/"
        },
        "id": "KM9JBwjMxZA1",
        "outputId": "0d3271d7-9a58-4813-aa90-fa9e13399257"
      },
      "outputs": [
        {
          "output_type": "execute_result",
          "data": {
            "text/plain": [
              "0    15.55\n",
              "1    15.55\n",
              "2    15.55\n",
              "3    15.55\n",
              "4    20.84\n",
              "Name: Heating Load, dtype: float64"
            ]
          },
          "metadata": {},
          "execution_count": 29
        }
      ],
      "source": [
        "y.head()"
      ]
    },
    {
      "cell_type": "code",
      "execution_count": null,
      "metadata": {
        "id": "68VbajaMxZA2"
      },
      "outputs": [],
      "source": [
        "X_train_org, X_test_org, y_train, y_test = train_test_split(X, y, test_size=0.25, random_state=42)\n",
        "\n",
        "scaler = MinMaxScaler()\n",
        "X_train = scaler.fit_transform(X_train_org)\n",
        "X_test = scaler.transform(X_test_org)"
      ]
    },
    {
      "cell_type": "markdown",
      "metadata": {
        "id": "MiMltWffxZA7"
      },
      "source": [
        "## Linear Regression"
      ]
    },
    {
      "cell_type": "code",
      "execution_count": null,
      "metadata": {
        "colab": {
          "base_uri": "https://localhost:8080/"
        },
        "id": "Hp8ojbrAxZA8",
        "outputId": "f334025b-2e37-4027-ce26-75a7582228c1"
      },
      "outputs": [
        {
          "output_type": "stream",
          "name": "stdout",
          "text": [
            "Accuracy of Linear Regression on training set: 0.92\n",
            "Accuracy of Linear Regression on test set: 0.91\n"
          ]
        }
      ],
      "source": [
        "from sklearn.linear_model import LinearRegression\n",
        "lr = LinearRegression().fit(X_train, y_train)\n",
        "y_predict = lr.predict(X_train)\n",
        "print('Accuracy of Linear Regression on training set: {:.2f}'\n",
        "     .format(lr.score(X_train, y_train)))\n",
        "print('Accuracy of Linear Regression on test set: {:.2f}'\n",
        "     .format(lr.score(X_test, y_test)))"
      ]
    },
    {
      "cell_type": "code",
      "execution_count": null,
      "metadata": {
        "colab": {
          "base_uri": "https://localhost:8080/"
        },
        "id": "boy1ZhL8xZA9",
        "outputId": "cce0084b-2b2f-48a3-c826-1600c5d6b624"
      },
      "outputs": [
        {
          "output_type": "stream",
          "name": "stdout",
          "text": [
            "lr.coef_: [-23.22208794  -9.12209329   0.95163216 -12.90294941  14.06618023\n",
            "  -0.15025552   7.85913976   1.18321625]\n",
            "lr.intercept_: 31.525721890638973\n"
          ]
        }
      ],
      "source": [
        "print(\"lr.coef_: {}\".format(lr.coef_))\n",
        "\n",
        "print(\"lr.intercept_: {}\".format(lr.intercept_))"
      ]
    },
    {
      "cell_type": "markdown",
      "metadata": {
        "id": "p1fCYpjYxZA9"
      },
      "source": [
        "## KNN Regressor"
      ]
    },
    {
      "cell_type": "code",
      "execution_count": null,
      "metadata": {
        "colab": {
          "base_uri": "https://localhost:8080/"
        },
        "id": "vgIZefCoxZA-",
        "outputId": "9681fdcc-3dc7-49fe-f985-55c4e5f9c263"
      },
      "outputs": [
        {
          "output_type": "execute_result",
          "data": {
            "text/plain": [
              "{'n_neighbors': 8}"
            ]
          },
          "metadata": {},
          "execution_count": 33
        }
      ],
      "source": [
        "from sklearn.neighbors import KNeighborsRegressor\n",
        "from sklearn.model_selection import GridSearchCV\n",
        "param_grid = {'n_neighbors': [2,4,6,8,10,12]}\n",
        "knn = KNeighborsRegressor()\n",
        "grid_search = GridSearchCV(knn,param_grid,cv=5)\n",
        "grid_search.fit(X_train, y_train)\n",
        "grid_search.best_params_"
      ]
    },
    {
      "cell_type": "code",
      "execution_count": null,
      "metadata": {
        "colab": {
          "base_uri": "https://localhost:8080/"
        },
        "id": "R6EazfX4xZA-",
        "outputId": "c2709c6c-f855-41c7-99c2-85fa07f54d18"
      },
      "outputs": [
        {
          "output_type": "stream",
          "name": "stdout",
          "text": [
            "Accuracy of Knn Regressor on training set: 0.94\n",
            "Accuracy of Knn Regressor on test set: 0.92\n"
          ]
        }
      ],
      "source": [
        "knn = KNeighborsRegressor(n_neighbors=8).fit(X_train, y_train)\n",
        "print('Accuracy of Knn Regressor on training set: {:.2f}'\n",
        "     .format(knn.score(X_train, y_train)))\n",
        "print('Accuracy of Knn Regressor on test set: {:.2f}'\n",
        "     .format(knn.score(X_test, y_test)))"
      ]
    },
    {
      "cell_type": "markdown",
      "metadata": {
        "id": "V50gqKsxxZA_"
      },
      "source": [
        "## Ridge"
      ]
    },
    {
      "cell_type": "code",
      "execution_count": null,
      "metadata": {
        "colab": {
          "base_uri": "https://localhost:8080/"
        },
        "id": "Bx0QJ5ZQxZA_",
        "outputId": "79c27d61-805f-4854-901a-a66955bd34f2"
      },
      "outputs": [
        {
          "output_type": "stream",
          "name": "stdout",
          "text": [
            "Best parameters: {'alpha': 0.01}\n"
          ]
        }
      ],
      "source": [
        "from sklearn.linear_model import Ridge\n",
        "ridge = Ridge().fit(X_train,y_train)\n",
        "param_grid = {'alpha':[0.01, 1, 5, 10, 100]}\n",
        "grid_search = GridSearchCV(ridge, param_grid, cv = 5)\n",
        "grid_search.fit(X_train, y_train)\n",
        "print('Best parameters: {}'.format(grid_search.best_params_))"
      ]
    },
    {
      "cell_type": "code",
      "execution_count": null,
      "metadata": {
        "colab": {
          "base_uri": "https://localhost:8080/"
        },
        "id": "2kLeSff7xZBA",
        "outputId": "cba82d60-dbdb-4240-fa96-5beec51ff09c"
      },
      "outputs": [
        {
          "output_type": "stream",
          "name": "stdout",
          "text": [
            "Accuracy of Ridge Regressor on training set: 0.92\n",
            "Accuracy of Ridge Regressor on test set: 0.91\n"
          ]
        }
      ],
      "source": [
        "ridge = Ridge(alpha=0.01).fit(X_train, y_train)\n",
        "print('Accuracy of Ridge Regressor on training set: {:.2f}'\n",
        "     .format(ridge.score(X_train, y_train)))\n",
        "print('Accuracy of Ridge Regressor on test set: {:.2f}'\n",
        "     .format(ridge.score(X_test, y_test)))"
      ]
    },
    {
      "cell_type": "markdown",
      "metadata": {
        "id": "v0akviYaxZBA"
      },
      "source": [
        "## Lasso"
      ]
    },
    {
      "cell_type": "code",
      "execution_count": null,
      "metadata": {
        "colab": {
          "base_uri": "https://localhost:8080/"
        },
        "id": "DG-odq59xZBB",
        "outputId": "ad8d8d23-367a-4bc9-d65c-7b17be3e7cc1"
      },
      "outputs": [
        {
          "output_type": "stream",
          "name": "stdout",
          "text": [
            "Best parameters: {'alpha': 0.01}\n"
          ]
        }
      ],
      "source": [
        "from sklearn.linear_model import Lasso\n",
        "lasso = Lasso(max_iter = 10000).fit(X_train,y_train)\n",
        "param_grid = {'alpha':[0.01, 1, 5, 10, 100]}\n",
        "grid_search = GridSearchCV(lasso, param_grid, cv = 5)\n",
        "grid_search.fit(X_train, y_train)\n",
        "print('Best parameters: {}'.format(grid_search.best_params_))"
      ]
    },
    {
      "cell_type": "code",
      "execution_count": null,
      "metadata": {
        "colab": {
          "base_uri": "https://localhost:8080/"
        },
        "id": "zrT7Up24xZBB",
        "outputId": "94152bdb-39c8-40dc-fb04-6a9c0b1094f7"
      },
      "outputs": [
        {
          "output_type": "stream",
          "name": "stdout",
          "text": [
            "Number of features used: 7\n",
            "Accuracy of Lasso Regressor on training set: 0.91\n",
            "Accuracy of Lasso Regressor on test set: 0.91\n"
          ]
        }
      ],
      "source": [
        "lasso = Lasso(max_iter = 10000, alpha=0.01).fit(X_train,y_train)\n",
        "print(\"Number of features used: {}\".format(np.sum(lasso.coef_ != 0)))\n",
        "print('Accuracy of Lasso Regressor on training set: {:.2f}'\n",
        "     .format(lasso.score(X_train, y_train)))\n",
        "print('Accuracy of Lasso Regressor on test set: {:.2f}'\n",
        "     .format(lasso.score(X_test, y_test)))"
      ]
    },
    {
      "cell_type": "code",
      "execution_count": null,
      "metadata": {
        "colab": {
          "base_uri": "https://localhost:8080/"
        },
        "id": "1815fwbOxZBC",
        "outputId": "2f6ae237-7a22-4975-f8f4-28eb4d6c9112"
      },
      "outputs": [
        {
          "output_type": "stream",
          "name": "stdout",
          "text": [
            "Features with non-zero weight (sorted by absolute magnitude):\n",
            "\tOverall Height, 17.137\n",
            "\tRelative Compactness, -8.868\n",
            "\tGlazing Area, 7.841\n",
            "\tRoof Area, -5.615\n",
            "\tWall Area, 3.758\n",
            "\tGlazing Area Distribution, 1.114\n",
            "\tOrientation, -0.047\n"
          ]
        }
      ],
      "source": [
        "print('Features with non-zero weight (sorted by absolute magnitude):')\n",
        "for e in sorted (list(zip(list(X), lasso.coef_)),\n",
        "                key = lambda e: -abs(e[1])):\n",
        "    if e[1] != 0:\n",
        "        print('\\t{}, {:.3f}'.format(e[0], e[1]))"
      ]
    },
    {
      "cell_type": "markdown",
      "metadata": {
        "id": "ugEj7CpPxZBC"
      },
      "source": [
        "## Polynomial Regression"
      ]
    },
    {
      "cell_type": "code",
      "execution_count": null,
      "metadata": {
        "colab": {
          "base_uri": "https://localhost:8080/"
        },
        "id": "SLwEZs-AxZBD",
        "outputId": "d9d4f259-9762-4ecf-fe7d-586354ba19e0"
      },
      "outputs": [
        {
          "output_type": "stream",
          "name": "stdout",
          "text": [
            "X Train Polynomial Shape: - (576, 45)\n",
            "X Test Polynomial Shape: - (192, 45)\n"
          ]
        }
      ],
      "source": [
        "from sklearn.preprocessing import PolynomialFeatures\n",
        "poly = PolynomialFeatures(degree = 2)\n",
        "X_train_poly = poly.fit_transform(X_train)\n",
        "X_test_poly = poly.fit_transform(X_test)\n",
        "print(\"X Train Polynomial Shape: - {}\".format(X_train_poly.shape))\n",
        "print(\"X Test Polynomial Shape: - {}\".format(X_test_poly.shape))"
      ]
    },
    {
      "cell_type": "code",
      "execution_count": null,
      "metadata": {
        "colab": {
          "base_uri": "https://localhost:8080/"
        },
        "id": "DDCabPEqxZBD",
        "outputId": "17f486ce-3fd9-4b05-86ea-91f4bb290220"
      },
      "outputs": [
        {
          "output_type": "stream",
          "name": "stdout",
          "text": [
            "(poly deg 2) R-squared score (training): 0.9951496146283607\n",
            "(poly deg 2) R-squared score (test): 0.994150513932381\n",
            "\n"
          ]
        }
      ],
      "source": [
        "lr = LinearRegression().fit(X_train_poly, y_train)\n",
        "predict_lr= lr.predict(X_test_poly)\n",
        "print('(poly deg 2) R-squared score (training): {}'\n",
        "     .format(lr.score(X_train_poly, y_train)))\n",
        "print('(poly deg 2) R-squared score (test): {}\\n'\n",
        "     .format(lr.score(X_test_poly, y_test)))"
      ]
    },
    {
      "cell_type": "markdown",
      "metadata": {
        "id": "RIUXHcVqxZBE"
      },
      "source": [
        "##### Addition of many polynomial features often leads to overfitting, so we often use polynomial features in combination with regression that has a regularization penalty, like ridge regression"
      ]
    },
    {
      "cell_type": "markdown",
      "metadata": {
        "id": "U4o0ld_BxZBF"
      },
      "source": [
        "## Polynomial with Ridge"
      ]
    },
    {
      "cell_type": "code",
      "execution_count": null,
      "metadata": {
        "colab": {
          "base_uri": "https://localhost:8080/"
        },
        "id": "_nT2oCzYxZBF",
        "outputId": "0363ba87-1480-4426-c08d-358f499acbd4"
      },
      "outputs": [
        {
          "output_type": "stream",
          "name": "stdout",
          "text": [
            "(poly deg 2 + ridge) R-squared score (training): 0.9367331731420391\n",
            "(poly deg 2 + ridge) R-squared score (test): 0.9362546524923423\n"
          ]
        }
      ],
      "source": [
        "ridge = Ridge().fit(X_train_poly, y_train)\n",
        "print('(poly deg 2 + ridge) R-squared score (training): {}'\n",
        "     .format(ridge.score(X_train_poly, y_train)))\n",
        "print('(poly deg 2 + ridge) R-squared score (test): {}'\n",
        "     .format(ridge.score(X_test_poly, y_test)))"
      ]
    },
    {
      "cell_type": "markdown",
      "metadata": {
        "id": "WKiUs6R8xZBG"
      },
      "source": [
        "## Linear SVR"
      ]
    },
    {
      "cell_type": "code",
      "execution_count": null,
      "metadata": {
        "colab": {
          "base_uri": "https://localhost:8080/"
        },
        "id": "shZwZX2mxZBH",
        "outputId": "cd0eba05-e741-4ce9-c7f3-1ccdac284e03"
      },
      "outputs": [
        {
          "output_type": "execute_result",
          "data": {
            "text/plain": [
              "{'C': 10}"
            ]
          },
          "metadata": {},
          "execution_count": 43
        }
      ],
      "source": [
        "from sklearn.svm import LinearSVR\n",
        "lsvr = LinearSVR(random_state=10).fit(X_train, y_train)\n",
        "param_grid = {'C': [0.01,0.1,1,10,100]}\n",
        "lsvr=LinearSVR()\n",
        "grid_search = GridSearchCV(lsvr,param_grid,cv=5)\n",
        "grid_search.fit(X_train, y_train)\n",
        "grid_search.best_params_"
      ]
    },
    {
      "cell_type": "code",
      "execution_count": null,
      "metadata": {
        "colab": {
          "base_uri": "https://localhost:8080/"
        },
        "id": "XnHxDhpixZBH",
        "outputId": "93e72383-d668-4a7f-f50e-d733c94e0a99"
      },
      "outputs": [
        {
          "output_type": "stream",
          "name": "stdout",
          "text": [
            "Accuracy of Linear SVR classifier on training set: 0.91\n",
            "Accuracy of Linear SVR classifier on test set: 0.91\n"
          ]
        }
      ],
      "source": [
        "lsvr=LinearSVR(C=10).fit(X_train, y_train)\n",
        "print('Accuracy of Linear SVR classifier on training set: {:.2f}'\n",
        "     .format(lsvr.score(X_train, y_train)))\n",
        "print('Accuracy of Linear SVR classifier on test set: {:.2f}'\n",
        "     .format(lsvr.score(X_test, y_test)))"
      ]
    },
    {
      "cell_type": "markdown",
      "metadata": {
        "id": "CYnLHyYFxZBI"
      },
      "source": [
        "## SVM Regressor"
      ]
    },
    {
      "cell_type": "code",
      "execution_count": null,
      "metadata": {
        "colab": {
          "base_uri": "https://localhost:8080/"
        },
        "id": "aORAYPhrxZBI",
        "outputId": "13929d7b-dec7-4bbc-d3d2-d7977c884b43"
      },
      "outputs": [
        {
          "output_type": "execute_result",
          "data": {
            "text/plain": [
              "{'C': 100, 'epsilon': 1}"
            ]
          },
          "metadata": {},
          "execution_count": 45
        }
      ],
      "source": [
        "from sklearn.svm import SVR\n",
        "param_grid = {'C': [0.01,0.1,1,10,100], 'epsilon': [0.01,0.1,1,10,100]}\n",
        "svr = SVR()\n",
        "grid_search = GridSearchCV(svr,param_grid,cv=5)\n",
        "grid_search.fit(X_train, y_train)\n",
        "grid_search.best_params_"
      ]
    },
    {
      "cell_type": "code",
      "execution_count": null,
      "metadata": {
        "colab": {
          "base_uri": "https://localhost:8080/"
        },
        "id": "l62VXbi_xZBJ",
        "outputId": "089381bd-1812-42bb-fdde-17f83857cfca"
      },
      "outputs": [
        {
          "output_type": "stream",
          "name": "stdout",
          "text": [
            "Accuracy of Knn Regressor on training set: 0.97\n",
            "Accuracy of Knn Regressor on test set: 0.97\n"
          ]
        }
      ],
      "source": [
        "svr = SVR(C=100, epsilon=1).fit(X_train, y_train)\n",
        "print('Accuracy of Knn Regressor on training set: {:.2f}'\n",
        "     .format(svr.score(X_train, y_train)))\n",
        "print('Accuracy of Knn Regressor on test set: {:.2f}'\n",
        "     .format(svr.score(X_test, y_test)))"
      ]
    },
    {
      "cell_type": "markdown",
      "metadata": {
        "id": "lUF2n602xZBK"
      },
      "source": [
        "## Decision Tree"
      ]
    },
    {
      "cell_type": "code",
      "execution_count": null,
      "metadata": {
        "colab": {
          "base_uri": "https://localhost:8080/"
        },
        "id": "RVEX7MmSxZBK",
        "outputId": "8863702d-ba41-4666-b993-d53b33bdd5ab"
      },
      "outputs": [
        {
          "output_type": "execute_result",
          "data": {
            "text/plain": [
              "{'max_depth': 8}"
            ]
          },
          "metadata": {},
          "execution_count": 47
        }
      ],
      "source": [
        "from sklearn.tree import DecisionTreeRegressor\n",
        "dt = DecisionTreeRegressor()\n",
        "param_grid = {'max_depth': [2, 4, 6 ,8, 10]}\n",
        "grid_search = GridSearchCV(dt, param_grid,cv=5)\n",
        "grid_search.fit(X_train,y_train)\n",
        "grid_search.best_params_"
      ]
    },
    {
      "cell_type": "code",
      "execution_count": null,
      "metadata": {
        "colab": {
          "base_uri": "https://localhost:8080/"
        },
        "id": "M7sCbHD2xZBL",
        "outputId": "7640df1f-986f-4814-bebe-8a22cae6ff70"
      },
      "outputs": [
        {
          "output_type": "stream",
          "name": "stdout",
          "text": [
            "Accuracy of DT Regressor on training set: 0.9992710026423552\n",
            "Accuracy of Dt Regressor on test set: 0.9965385654486217\n"
          ]
        }
      ],
      "source": [
        "dt = DecisionTreeRegressor(max_depth=8).fit(X_train, y_train)\n",
        "print('Accuracy of DT Regressor on training set: {}'\n",
        "     .format(dt.score(X_train, y_train)))\n",
        "print('Accuracy of Dt Regressor on test set: {}'\n",
        "     .format(dt.score(X_test, y_test)))"
      ]
    },
    {
      "cell_type": "markdown",
      "metadata": {
        "id": "G3TENmqxxZBM"
      },
      "source": [
        "##Summary of R- Square Scores for Base Regression Models for Heating Load"
      ]
    },
    {
      "cell_type": "markdown",
      "metadata": {
        "id": "b5ZTKn_4xZBM"
      },
      "source": [
        "1. Linear Regression : - 0.91\n",
        "2. KNN Regressor : - 0.92\n",
        "3. Ridge: - 0.91\n",
        "4. Lasso : - 0.91\n",
        "5. Polynomial : - 0.994\n",
        "6. Polynomial with Ridge: - 0.9362\n",
        "7. Linear SVR : - 0.91\n",
        "8. SVM : - 0.97\n",
        "9. Decision Tree : - 0.9966"
      ]
    },
    {
      "cell_type": "markdown",
      "metadata": {
        "id": "mw1046onxZBN"
      },
      "source": [
        "### Best Base Regression Model :- Decision Tree with R Square= 0.9966"
      ]
    },
    {
      "cell_type": "markdown",
      "metadata": {
        "id": "Av4FKmYrxZBN"
      },
      "source": [
        "#Ensembles"
      ]
    },
    {
      "cell_type": "markdown",
      "metadata": {
        "id": "VlGawcdixZBR"
      },
      "source": [
        "## Random Forest"
      ]
    },
    {
      "cell_type": "code",
      "execution_count": null,
      "metadata": {
        "colab": {
          "base_uri": "https://localhost:8080/"
        },
        "id": "HpwL5YGsxZBR",
        "outputId": "64668f3d-31f1-47c4-9fbf-b6e3a257dfb7"
      },
      "outputs": [
        {
          "output_type": "execute_result",
          "data": {
            "text/plain": [
              "{'max_depth': 6, 'max_features': 6, 'max_leaf_nodes': 8}"
            ]
          },
          "metadata": {},
          "execution_count": 49
        }
      ],
      "source": [
        "from sklearn.ensemble import RandomForestRegressor\n",
        "param_grid = {'max_features': [2,4,6,8],\n",
        "            'max_depth': [2,4,6,8],\n",
        "           'max_leaf_nodes':[2,4,6,8]}\n",
        "rf = RandomForestRegressor(random_state=10)\n",
        "grid_search = GridSearchCV(rf,param_grid,cv=5)\n",
        "grid_search.fit(X_train, y_train)\n",
        "grid_search.best_params_"
      ]
    },
    {
      "cell_type": "code",
      "execution_count": null,
      "metadata": {
        "colab": {
          "base_uri": "https://localhost:8080/"
        },
        "id": "NnTE22T3xZBS",
        "outputId": "ca88b2d8-b606-4cff-8324-0269b35e5107"
      },
      "outputs": [
        {
          "output_type": "stream",
          "name": "stdout",
          "text": [
            "Accuracy of RF Regressor on training set: 0.97\n",
            "Accuracy of Rf Regressor on test set: 0.96\n"
          ]
        }
      ],
      "source": [
        "rf = RandomForestRegressor(max_depth= 4, max_features=6, max_leaf_nodes=8, random_state=10).fit(X_train, y_train)\n",
        "print('Accuracy of RF Regressor on training set: {:.2f}'\n",
        "     .format(rf.score(X_train, y_train)))\n",
        "print('Accuracy of Rf Regressor on test set: {:.2f}'\n",
        "     .format(rf.score(X_test, y_test)))"
      ]
    },
    {
      "cell_type": "markdown",
      "metadata": {
        "id": "2Eu2LmbfxZBS"
      },
      "source": [
        "## Bagging and Pasting"
      ]
    },
    {
      "cell_type": "markdown",
      "metadata": {
        "id": "3rU8bgp1xZBT"
      },
      "source": [
        "###Bagging with KNN"
      ]
    },
    {
      "cell_type": "code",
      "execution_count": null,
      "metadata": {
        "colab": {
          "base_uri": "https://localhost:8080/"
        },
        "id": "UKt0v1SHxZBT",
        "outputId": "ceb34d83-1f29-4a2a-9208-505452a2bcbf"
      },
      "outputs": [
        {
          "output_type": "stream",
          "name": "stdout",
          "text": [
            "Accuracy of Bagging KNN Regressor on training set: 0.87\n",
            "Accuracy of Bagging KNN on test set: 0.87\n"
          ]
        }
      ],
      "source": [
        "from sklearn.ensemble import BaggingRegressor\n",
        "bag_knn = BaggingRegressor(base_estimator=knn,bootstrap_features=True, max_samples=50).fit(X_train, y_train)\n",
        "print('Accuracy of Bagging KNN Regressor on training set: {:.2f}'\n",
        "     .format(bag_knn.score(X_train, y_train)))\n",
        "print('Accuracy of Bagging KNN on test set: {:.2f}'\n",
        "     .format(bag_knn.score(X_test, y_test)))"
      ]
    },
    {
      "cell_type": "markdown",
      "metadata": {
        "id": "b21wKPIYxZBU"
      },
      "source": [
        "###Pasting with KNN"
      ]
    },
    {
      "cell_type": "code",
      "execution_count": null,
      "metadata": {
        "colab": {
          "base_uri": "https://localhost:8080/"
        },
        "id": "A39LNhOwxZBU",
        "outputId": "d7b55084-9ab5-4a74-cac8-4cd44ac27b92"
      },
      "outputs": [
        {
          "output_type": "stream",
          "name": "stdout",
          "text": [
            "Accuracy of Pasting KNN Regressor on training set: 0.88\n",
            "Accuracy of Pasting KNN on test set: 0.88\n"
          ]
        }
      ],
      "source": [
        "paste_knn = BaggingRegressor(base_estimator=knn, max_samples=50, bootstrap=False).fit(X_train, y_train)\n",
        "print('Accuracy of Pasting KNN Regressor on training set: {:.2f}'\n",
        "     .format(paste_knn.score(X_train, y_train)))\n",
        "print('Accuracy of Pasting KNN on test set: {:.2f}'\n",
        "     .format(paste_knn.score(X_test, y_test)))"
      ]
    },
    {
      "cell_type": "markdown",
      "metadata": {
        "id": "WqDN6CVpxZBU"
      },
      "source": [
        "### Bagging with Linear SVR"
      ]
    },
    {
      "cell_type": "code",
      "execution_count": null,
      "metadata": {
        "colab": {
          "base_uri": "https://localhost:8080/"
        },
        "id": "6BGjZtFMxZBV",
        "outputId": "f2933db8-dc80-4750-dcb6-8538c7ea780e"
      },
      "outputs": [
        {
          "output_type": "stream",
          "name": "stdout",
          "text": [
            "Accuracy of Bagging Linear SVR Regressor on training set: 0.88\n",
            "Accuracy of Bagging Linear SVR on test set: 0.87\n"
          ]
        }
      ],
      "source": [
        "from sklearn.ensemble import BaggingRegressor\n",
        "bag_lsvr = BaggingRegressor(base_estimator=lsvr,bootstrap_features=True, max_samples=50).fit(X_train, y_train)\n",
        "print('Accuracy of Bagging Linear SVR Regressor on training set: {:.2f}'\n",
        "     .format(bag_lsvr.score(X_train, y_train)))\n",
        "print('Accuracy of Bagging Linear SVR on test set: {:.2f}'\n",
        "     .format(bag_lsvr.score(X_test, y_test)))"
      ]
    },
    {
      "cell_type": "markdown",
      "metadata": {
        "id": "cFnmFr-JxZBV"
      },
      "source": [
        "###Pasting with Linear SVR"
      ]
    },
    {
      "cell_type": "code",
      "execution_count": null,
      "metadata": {
        "colab": {
          "base_uri": "https://localhost:8080/"
        },
        "id": "vi3NKXjIxZBW",
        "outputId": "ab964f14-195f-4ed3-91e4-2193a110e252"
      },
      "outputs": [
        {
          "output_type": "stream",
          "name": "stdout",
          "text": [
            "Accuracy of Pasting Linear SVR Regressor on training set: 0.90\n",
            "Accuracy of Pasting Linear SVR on test set: 0.90\n"
          ]
        }
      ],
      "source": [
        "from sklearn.ensemble import BaggingRegressor\n",
        "paste_lsvr = BaggingRegressor(base_estimator=lsvr,max_samples=50, bootstrap=False).fit(X_train, y_train)\n",
        "print('Accuracy of Pasting Linear SVR Regressor on training set: {:.2f}'\n",
        "     .format(paste_lsvr.score(X_train, y_train)))\n",
        "print('Accuracy of Pasting Linear SVR on test set: {:.2f}'\n",
        "     .format(paste_lsvr.score(X_test, y_test)))"
      ]
    },
    {
      "cell_type": "markdown",
      "metadata": {
        "id": "rGjHbg_kxZBW"
      },
      "source": [
        "###Bagging with SVR"
      ]
    },
    {
      "cell_type": "code",
      "execution_count": null,
      "metadata": {
        "colab": {
          "base_uri": "https://localhost:8080/"
        },
        "id": "IVVwZjebxZBX",
        "outputId": "ed4e00b1-1dd1-4241-d219-8a86aaa0a9e1"
      },
      "outputs": [
        {
          "output_type": "stream",
          "name": "stdout",
          "text": [
            "Accuracy of Bagging Linear SVR Regressor on training set: 0.92\n",
            "Accuracy of Bagging Linear SVR on test set: 0.92\n"
          ]
        }
      ],
      "source": [
        "from sklearn.ensemble import BaggingRegressor\n",
        "bag_svr = BaggingRegressor(base_estimator=svr,bootstrap_features=True, max_samples=50).fit(X_train, y_train)\n",
        "print('Accuracy of Bagging Linear SVR Regressor on training set: {:.2f}'\n",
        "     .format(bag_svr.score(X_train, y_train)))\n",
        "print('Accuracy of Bagging Linear SVR on test set: {:.2f}'\n",
        "     .format(bag_svr.score(X_test, y_test)))"
      ]
    },
    {
      "cell_type": "markdown",
      "metadata": {
        "id": "5MiL3Kj2xZBY"
      },
      "source": [
        "### Pasting with SVR"
      ]
    },
    {
      "cell_type": "code",
      "execution_count": null,
      "metadata": {
        "colab": {
          "base_uri": "https://localhost:8080/"
        },
        "id": "8P3EaPGZxZBY",
        "outputId": "4ad3ff26-57aa-4b74-a1b2-a07b5b9c63ff"
      },
      "outputs": [
        {
          "output_type": "stream",
          "name": "stdout",
          "text": [
            "Accuracy of Pasting Linear SVR Regressor on training set: 0.93\n",
            "Accuracy of Pasting Linear SVR on test set: 0.92\n"
          ]
        }
      ],
      "source": [
        "from sklearn.ensemble import BaggingRegressor\n",
        "paste_svr = BaggingRegressor(base_estimator=svr,max_samples=50, bootstrap=False).fit(X_train, y_train)\n",
        "print('Accuracy of Pasting Linear SVR Regressor on training set: {:.2f}'\n",
        "     .format(paste_svr.score(X_train, y_train)))\n",
        "print('Accuracy of Pasting Linear SVR on test set: {:.2f}'\n",
        "     .format(paste_svr.score(X_test, y_test)))"
      ]
    },
    {
      "cell_type": "markdown",
      "metadata": {
        "id": "ARSGKJ9RxZBZ"
      },
      "source": [
        "### Bagging with Decision Tree"
      ]
    },
    {
      "cell_type": "code",
      "execution_count": null,
      "metadata": {
        "colab": {
          "base_uri": "https://localhost:8080/"
        },
        "id": "i8Pn9BjUxZBa",
        "outputId": "319d742e-ed7f-4882-e991-1ffb199ac814"
      },
      "outputs": [
        {
          "output_type": "stream",
          "name": "stdout",
          "text": [
            "Accuracy of Bagging Decision Tree Regressor on training set: 0.98\n",
            "Accuracy of Bagging Decision Tree Regressor on test set: 0.98\n"
          ]
        }
      ],
      "source": [
        "from sklearn.ensemble import BaggingRegressor\n",
        "bag_dt = BaggingRegressor(base_estimator=dt,bootstrap_features=True, max_samples=50).fit(X_train, y_train)\n",
        "print('Accuracy of Bagging Decision Tree Regressor on training set: {:.2f}'\n",
        "     .format(bag_dt.score(X_train, y_train)))\n",
        "print('Accuracy of Bagging Decision Tree Regressor on test set: {:.2f}'\n",
        "     .format(bag_dt.score(X_test, y_test)))"
      ]
    },
    {
      "cell_type": "markdown",
      "metadata": {
        "id": "CxtrF3t8xZBa"
      },
      "source": [
        "### Pasting with Decision Tree"
      ]
    },
    {
      "cell_type": "code",
      "execution_count": null,
      "metadata": {
        "colab": {
          "base_uri": "https://localhost:8080/"
        },
        "id": "eT7SYuUKxZBb",
        "outputId": "de78dca3-1973-427d-8056-000ecd89ccc1"
      },
      "outputs": [
        {
          "output_type": "stream",
          "name": "stdout",
          "text": [
            "Accuracy of Pasting Decision Tree on training set: 0.93\n",
            "Accuracy of Pasting Decision Tree on test set: 0.92\n"
          ]
        }
      ],
      "source": [
        "from sklearn.ensemble import BaggingRegressor\n",
        "paste_dt = BaggingRegressor(base_estimator=dt,max_samples=50, bootstrap=False).fit(X_train, y_train)\n",
        "print('Accuracy of Pasting Decision Tree on training set: {:.2f}'\n",
        "     .format(paste_svr.score(X_train, y_train)))\n",
        "print('Accuracy of Pasting Decision Tree on test set: {:.2f}'\n",
        "     .format(paste_svr.score(X_test, y_test)))"
      ]
    },
    {
      "cell_type": "markdown",
      "metadata": {
        "id": "ORducnQIxZBb"
      },
      "source": [
        "## Boosting"
      ]
    },
    {
      "cell_type": "markdown",
      "metadata": {
        "id": "sTuzrS6UxZBc"
      },
      "source": [
        "###Adaptive Boosting with Decision Tree Regressor"
      ]
    },
    {
      "cell_type": "code",
      "execution_count": null,
      "metadata": {
        "colab": {
          "base_uri": "https://localhost:8080/"
        },
        "id": "WpNOdD4MxZBc",
        "outputId": "03c045d8-f1b9-4ff4-88ee-688e904eb481"
      },
      "outputs": [
        {
          "output_type": "stream",
          "name": "stdout",
          "text": [
            "Accuracy of Adaptive Boosting with Decision Tree Regressor on training set: 0.9995305838425169\n",
            "Accuracy of Adaptive Boosting with Decision Tree Regressor on test set: 0.9967889624395159\n"
          ]
        }
      ],
      "source": [
        "from sklearn.ensemble import AdaBoostRegressor\n",
        "adaboost_dt = AdaBoostRegressor(base_estimator = dt, learning_rate = 0.5).fit(X_train, y_train)\n",
        "print('Accuracy of Adaptive Boosting with Decision Tree Regressor on training set: {}'\n",
        "     .format(adaboost_dt.score(X_train, y_train)))\n",
        "print('Accuracy of Adaptive Boosting with Decision Tree Regressor on test set: {}'\n",
        "     .format(adaboost_dt.score(X_test, y_test)))"
      ]
    },
    {
      "cell_type": "markdown",
      "metadata": {
        "id": "4tKnBik2xZBd"
      },
      "source": [
        "### Adaptive Boosting with Random Forest Regressor"
      ]
    },
    {
      "cell_type": "code",
      "execution_count": null,
      "metadata": {
        "colab": {
          "base_uri": "https://localhost:8080/"
        },
        "id": "t99ttolJxZBd",
        "outputId": "0e72b465-b215-4b31-a189-452a0ccf1532"
      },
      "outputs": [
        {
          "output_type": "stream",
          "name": "stdout",
          "text": [
            "Accuracy of Adaptive Boosting with Random Forest Regressor on training set: 0.9778406989724864\n",
            "Accuracy of Adaptive Boosting with Random Forest Regressor on test set: 0.973436549221659\n"
          ]
        }
      ],
      "source": [
        "from sklearn.ensemble import AdaBoostRegressor\n",
        "adaboost_rf = AdaBoostRegressor(base_estimator = rf, learning_rate = 0.5).fit(X_train, y_train)\n",
        "print('Accuracy of Adaptive Boosting with Random Forest Regressor on training set: {}'\n",
        "     .format(adaboost_rf.score(X_train, y_train)))\n",
        "print('Accuracy of Adaptive Boosting with Random Forest Regressor on test set: {}'\n",
        "     .format(adaboost_rf.score(X_test, y_test)))"
      ]
    },
    {
      "cell_type": "markdown",
      "metadata": {
        "id": "xxmcw9VlxZBe"
      },
      "source": [
        "###Adaptive Boosting with SVM Regressor"
      ]
    },
    {
      "cell_type": "code",
      "execution_count": null,
      "metadata": {
        "colab": {
          "base_uri": "https://localhost:8080/"
        },
        "id": "Zd8X2UPLxZBe",
        "outputId": "d1b35524-201c-4c83-cb8b-a90c474ab898"
      },
      "outputs": [
        {
          "output_type": "stream",
          "name": "stdout",
          "text": [
            "Accuracy of Adaptive Boosting with SVM Regressor on training set: 0.991551250198273\n",
            "Accuracy of Adaptive Boosting with SVM Regressor on test set: 0.9862519207433844\n"
          ]
        }
      ],
      "source": [
        "from sklearn.ensemble import AdaBoostRegressor\n",
        "adaboost_svr = AdaBoostRegressor(base_estimator = svr, learning_rate = 0.5).fit(X_train, y_train)\n",
        "print('Accuracy of Adaptive Boosting with SVM Regressor on training set: {}'\n",
        "     .format(adaboost_svr.score(X_train, y_train)))\n",
        "print('Accuracy of Adaptive Boosting with SVM Regressor on test set: {}'\n",
        "     .format(adaboost_svr.score(X_test, y_test)))"
      ]
    },
    {
      "cell_type": "markdown",
      "metadata": {
        "id": "V9Qnh0UmxZBf"
      },
      "source": [
        "## Gradient Boosting Regressor"
      ]
    },
    {
      "cell_type": "code",
      "execution_count": null,
      "metadata": {
        "colab": {
          "base_uri": "https://localhost:8080/"
        },
        "id": "0ri-WjMqxZBf",
        "outputId": "a0a1943f-edfa-47e4-e656-dd4f4d385115"
      },
      "outputs": [
        {
          "output_type": "execute_result",
          "data": {
            "text/plain": [
              "{'learning_rate': 1, 'n_estimators': 50}"
            ]
          },
          "metadata": {},
          "execution_count": 62
        }
      ],
      "source": [
        "from sklearn.ensemble import GradientBoostingRegressor\n",
        "gb=GradientBoostingRegressor(max_depth=4)\n",
        "param_grid = {'learning_rate': [0.1,1,10,100], 'n_estimators': [5,10,20,50]}\n",
        "gb = GradientBoostingRegressor()\n",
        "grid_search = GridSearchCV(gb,param_grid,cv=5)\n",
        "grid_search.fit(X_train, y_train)\n",
        "grid_search.best_params_"
      ]
    },
    {
      "cell_type": "code",
      "execution_count": null,
      "metadata": {
        "colab": {
          "base_uri": "https://localhost:8080/"
        },
        "id": "rhAavdiQxZBg",
        "outputId": "962f4189-c3d9-4c8f-c890-24ed485b8785"
      },
      "outputs": [
        {
          "output_type": "stream",
          "name": "stdout",
          "text": [
            "Accuracy of GB Regressor on training set: 0.999175796543957\n",
            "Accuracy of GB Regressor on test set: 0.9982863895961976\n"
          ]
        }
      ],
      "source": [
        "gb=GradientBoostingRegressor(learning_rate=1, n_estimators=50).fit(X_train, y_train)\n",
        "print('Accuracy of GB Regressor on training set: {}'\n",
        "     .format(gb.score(X_train, y_train)))\n",
        "print('Accuracy of GB Regressor on test set: {}'\n",
        "     .format(gb.score(X_test, y_test)))"
      ]
    },
    {
      "cell_type": "markdown",
      "metadata": {
        "id": "Ngga3zegxZBg"
      },
      "source": [
        "## Ensemble of All Regressors- Stacking Regressor"
      ]
    },
    {
      "cell_type": "code",
      "execution_count": null,
      "metadata": {
        "id": "yk2WLezJxZBg"
      },
      "outputs": [],
      "source": [
        "lr=LinearRegression()\n",
        "knn=KNeighborsRegressor(n_neighbors=8)\n",
        "lsvr=LinearSVR(C=10)\n",
        "svr = SVR(C=100, epsilon=1)\n",
        "rf = RandomForestRegressor(max_depth= 4, max_features=6, max_leaf_nodes=8)"
      ]
    },
    {
      "cell_type": "code",
      "execution_count": null,
      "metadata": {
        "colab": {
          "base_uri": "https://localhost:8080/"
        },
        "id": "eLUt4RhgxZBh",
        "outputId": "c4248b26-1c84-4336-b283-02084b949c93"
      },
      "outputs": [
        {
          "output_type": "stream",
          "name": "stdout",
          "text": [
            "Accuracy of STR Regressor on training set: 0.989\n",
            "Accuracy of STR Regressor on test set: 0.985\n"
          ]
        }
      ],
      "source": [
        "from mlxtend.regressor import StackingRegressor\n",
        "stregr = StackingRegressor(regressors=[lr, knn, lsvr, svr, rf], \n",
        "                           meta_regressor=svr)\n",
        "stregr.fit(X_train, y_train)\n",
        "str_predict = stregr.predict(X_test)\n",
        "print('Accuracy of STR Regressor on training set: {:.3f}'\n",
        "     .format(stregr.score(X_train, y_train)))\n",
        "print('Accuracy of STR Regressor on test set: {:.3f}'\n",
        "     .format(stregr.score(X_test, y_test)))"
      ]
    },
    {
      "cell_type": "code",
      "execution_count": null,
      "metadata": {
        "colab": {
          "base_uri": "https://localhost:8080/"
        },
        "id": "gzC0Hi6FxZBh",
        "outputId": "658ed3d5-6894-46df-e418-8c25f9bd641c"
      },
      "outputs": [
        {
          "output_type": "stream",
          "name": "stdout",
          "text": [
            "Mean Squared Error: 1.6202\n",
            "Variance Score: 0.9846\n"
          ]
        }
      ],
      "source": [
        "print(\"Mean Squared Error: %.4f\"\n",
        "      % np.mean((stregr.predict(X_test) - y_test) ** 2))\n",
        "print('Variance Score: %.4f' % stregr.score(X_test, y_test))"
      ]
    },
    {
      "cell_type": "markdown",
      "metadata": {
        "id": "i8W46kUsxZBh"
      },
      "source": [
        "## Summary of R- Square Scores for Ensemble Regression Models for Heating Load"
      ]
    },
    {
      "cell_type": "markdown",
      "metadata": {
        "id": "l5e0dauExZBi"
      },
      "source": [
        "1. Random Forest: - 0.95\n",
        "2. Bagging(KNN) : - 0.86\n",
        "3. Pasting(KNN) : - 0.89\n",
        "4. Bagging(Linear SVR) : - 0.88\n",
        "5. Pasting(Linear SVR) : - 0.91\n",
        "6. Bagging(SVR) : - 0.91\n",
        "7. Pasting(SVR) : - 0.92\n",
        "8. Bagging(Decision Tree): - 0.96\n",
        "9. Pasting(Decision Tree): - 0.92\n",
        "10. Adaptive Boosting (Decision Tree) : - 0.9969\n",
        "11. Adaptive Boosting (Random Forest) : - 0.97\n",
        "12. Adaptive Boosting (SVM Regressor) : - 0.94\n",
        "13. Gradient Boosting : - 0.9982"
      ]
    },
    {
      "cell_type": "markdown",
      "metadata": {
        "id": "PgZ5zg0ixZBi"
      },
      "source": [
        "### Best Ensemble Regression Model for Heating Load :- Gradient Boosting with R Square= 0.9982"
      ]
    },
    {
      "cell_type": "markdown",
      "metadata": {
        "id": "fwxFvgGTxZBi"
      },
      "source": [
        "## Models for predicting cooling load"
      ]
    },
    {
      "cell_type": "markdown",
      "metadata": {
        "id": "2zOG1YiexZBj"
      },
      "source": [
        "## Data preprocessing"
      ]
    },
    {
      "cell_type": "code",
      "execution_count": null,
      "metadata": {
        "id": "_cXlVCTWxZBj"
      },
      "outputs": [],
      "source": [
        "X = data_cool.drop(columns=['Cooling Load'])\n",
        "y= data_cool['Cooling Load']"
      ]
    },
    {
      "cell_type": "code",
      "execution_count": null,
      "metadata": {
        "colab": {
          "base_uri": "https://localhost:8080/"
        },
        "id": "BaK0K2ZrxZBk",
        "outputId": "8a8358bf-bd2a-466a-a5c8-72e73227aa49"
      },
      "outputs": [
        {
          "output_type": "execute_result",
          "data": {
            "text/plain": [
              "0    21.33\n",
              "1    21.33\n",
              "2    21.33\n",
              "3    21.33\n",
              "4    28.28\n",
              "Name: Cooling Load, dtype: float64"
            ]
          },
          "metadata": {},
          "execution_count": 68
        }
      ],
      "source": [
        "y.head()"
      ]
    },
    {
      "cell_type": "code",
      "execution_count": null,
      "metadata": {
        "id": "irfB0fcoxZBk"
      },
      "outputs": [],
      "source": [
        "X_train_org, X_test_org, y_train, y_test = train_test_split(X, y, test_size=0.25, random_state=42)\n",
        "\n",
        "scaler = MinMaxScaler()\n",
        "X_train = scaler.fit_transform(X_train_org)\n",
        "X_test = scaler.transform(X_test_org)"
      ]
    },
    {
      "cell_type": "markdown",
      "metadata": {
        "id": "RuXQEyJZxZBp"
      },
      "source": [
        "## Linear Regression"
      ]
    },
    {
      "cell_type": "code",
      "execution_count": null,
      "metadata": {
        "colab": {
          "base_uri": "https://localhost:8080/"
        },
        "id": "USvRLAHJxZBq",
        "outputId": "8e2def98-8bde-4943-b816-db186be31790"
      },
      "outputs": [
        {
          "output_type": "stream",
          "name": "stdout",
          "text": [
            "Accuracy of Linear Regression on training set: 0.89\n",
            "Accuracy of Linear Regression on test set: 0.89\n"
          ]
        }
      ],
      "source": [
        "from sklearn.linear_model import LinearRegression\n",
        "lr = LinearRegression().fit(X_train, y_train)\n",
        "y_predict = lr.predict(X_train)\n",
        "print('Accuracy of Linear Regression on training set: {:.2f}'\n",
        "     .format(lr.score(X_train, y_train)))\n",
        "print('Accuracy of Linear Regression on test set: {:.2f}'\n",
        "     .format(lr.score(X_test, y_test)))"
      ]
    },
    {
      "cell_type": "code",
      "execution_count": null,
      "metadata": {
        "colab": {
          "base_uri": "https://localhost:8080/"
        },
        "id": "22hjY_WqxZBr",
        "outputId": "ef6939b9-24e6-441d-c6b9-466e58e9b0cb"
      },
      "outputs": [
        {
          "output_type": "stream",
          "name": "stdout",
          "text": [
            "lr.coef_: [-26.71604972 -10.9230715   -1.71918832 -13.22694887  14.03429415\n",
            "   0.15811777   5.6586116    0.30475867]\n",
            "lr.intercept_: 39.125952387072935\n"
          ]
        }
      ],
      "source": [
        "print(\"lr.coef_: {}\".format(lr.coef_))\n",
        "\n",
        "print(\"lr.intercept_: {}\".format(lr.intercept_))"
      ]
    },
    {
      "cell_type": "markdown",
      "metadata": {
        "id": "7EkLtT_XxZBs"
      },
      "source": [
        "## KNN Regressor"
      ]
    },
    {
      "cell_type": "code",
      "execution_count": null,
      "metadata": {
        "colab": {
          "base_uri": "https://localhost:8080/"
        },
        "id": "vYnxaf4nxZBs",
        "outputId": "ef8212ea-5274-4245-d647-e1aba248e8fb"
      },
      "outputs": [
        {
          "output_type": "execute_result",
          "data": {
            "text/plain": [
              "{'n_neighbors': 8}"
            ]
          },
          "metadata": {},
          "execution_count": 72
        }
      ],
      "source": [
        "from sklearn.neighbors import KNeighborsRegressor\n",
        "from sklearn.model_selection import GridSearchCV\n",
        "param_grid = {'n_neighbors': [2,4,6,8,10,12]}\n",
        "knn = KNeighborsRegressor()\n",
        "grid_search = GridSearchCV(knn,param_grid,cv=5)\n",
        "grid_search.fit(X_train, y_train)\n",
        "grid_search.best_params_"
      ]
    },
    {
      "cell_type": "code",
      "execution_count": null,
      "metadata": {
        "colab": {
          "base_uri": "https://localhost:8080/"
        },
        "id": "9R5CSbkBxZBs",
        "outputId": "792a9637-d23c-43ae-85cb-5b2114fd7f78"
      },
      "outputs": [
        {
          "output_type": "stream",
          "name": "stdout",
          "text": [
            "Accuracy of Knn Regressor on training set: 0.92\n",
            "Accuracy of Knn Regressor on test set: 0.91\n"
          ]
        }
      ],
      "source": [
        "knn = KNeighborsRegressor(n_neighbors=8).fit(X_train, y_train)\n",
        "print('Accuracy of Knn Regressor on training set: {:.2f}'\n",
        "     .format(knn.score(X_train, y_train)))\n",
        "print('Accuracy of Knn Regressor on test set: {:.2f}'\n",
        "     .format(knn.score(X_test, y_test)))"
      ]
    },
    {
      "cell_type": "markdown",
      "metadata": {
        "id": "6RXR68iexZBt"
      },
      "source": [
        "## Ridge"
      ]
    },
    {
      "cell_type": "code",
      "execution_count": null,
      "metadata": {
        "colab": {
          "base_uri": "https://localhost:8080/"
        },
        "id": "AsAn15DyxZBt",
        "outputId": "1112f464-f308-44bd-c282-a478af09ffc5"
      },
      "outputs": [
        {
          "output_type": "stream",
          "name": "stdout",
          "text": [
            "Best parameters: {'alpha': 0.01}\n"
          ]
        }
      ],
      "source": [
        "from sklearn.linear_model import Ridge\n",
        "ridge = Ridge().fit(X_train,y_train)\n",
        "param_grid = {'alpha':[0.01, 1, 5, 10, 100]}\n",
        "grid_search = GridSearchCV(ridge, param_grid, cv = 5)\n",
        "grid_search.fit(X_train, y_train)\n",
        "print('Best parameters: {}'.format(grid_search.best_params_))"
      ]
    },
    {
      "cell_type": "code",
      "execution_count": null,
      "metadata": {
        "colab": {
          "base_uri": "https://localhost:8080/"
        },
        "id": "C_DOgdWCxZBt",
        "outputId": "c2e59360-6eff-46e7-f638-08d779ee4358"
      },
      "outputs": [
        {
          "output_type": "stream",
          "name": "stdout",
          "text": [
            "Accuracy of Ridge Regressor on training set: 0.89\n",
            "Accuracy of Ridge Regressor on test set: 0.89\n"
          ]
        }
      ],
      "source": [
        "ridge = Ridge(alpha=0.01).fit(X_train, y_train)\n",
        "print('Accuracy of Ridge Regressor on training set: {:.2f}'\n",
        "     .format(ridge.score(X_train, y_train)))\n",
        "print('Accuracy of Ridge Regressor on test set: {:.2f}'\n",
        "     .format(ridge.score(X_test, y_test)))"
      ]
    },
    {
      "cell_type": "markdown",
      "metadata": {
        "id": "hKqYFg7qxZBu"
      },
      "source": [
        "## Lasso"
      ]
    },
    {
      "cell_type": "code",
      "execution_count": null,
      "metadata": {
        "colab": {
          "base_uri": "https://localhost:8080/"
        },
        "id": "mhr-O8MlxZBu",
        "outputId": "de0ef6c2-70ae-4aa3-ba24-8932ebfd15bc"
      },
      "outputs": [
        {
          "output_type": "stream",
          "name": "stdout",
          "text": [
            "Best parameters: {'alpha': 0.01}\n"
          ]
        }
      ],
      "source": [
        "from sklearn.linear_model import Lasso\n",
        "lasso = Lasso(max_iter = 10000).fit(X_train,y_train)\n",
        "param_grid = {'alpha':[0.01, 1, 5, 10, 100]}\n",
        "grid_search = GridSearchCV(lasso, param_grid, cv = 5)\n",
        "grid_search.fit(X_train, y_train)\n",
        "print('Best parameters: {}'.format(grid_search.best_params_))"
      ]
    },
    {
      "cell_type": "code",
      "execution_count": null,
      "metadata": {
        "colab": {
          "base_uri": "https://localhost:8080/"
        },
        "id": "gSxpCUdDxZBu",
        "outputId": "49392341-b894-4800-9083-de772497ce3b"
      },
      "outputs": [
        {
          "output_type": "stream",
          "name": "stdout",
          "text": [
            "Number of features used: 7\n",
            "Accuracy of Lasso Regressor on training set: 0.88\n",
            "Accuracy of Lasso Regressor on test set: 0.89\n"
          ]
        }
      ],
      "source": [
        "lasso = Lasso(max_iter = 10000, alpha=0.01).fit(X_train,y_train)\n",
        "print(\"Number of features used: {}\".format(np.sum(lasso.coef_ != 0)))\n",
        "print('Accuracy of Lasso Regressor on training set: {:.2f}'\n",
        "     .format(lasso.score(X_train, y_train)))\n",
        "print('Accuracy of Lasso Regressor on test set: {:.2f}'\n",
        "     .format(lasso.score(X_test, y_test)))"
      ]
    },
    {
      "cell_type": "code",
      "execution_count": null,
      "metadata": {
        "colab": {
          "base_uri": "https://localhost:8080/"
        },
        "id": "9a047ilyxZBv",
        "outputId": "84094754-1e65-4a9c-a74d-16dd0393249a"
      },
      "outputs": [
        {
          "output_type": "stream",
          "name": "stdout",
          "text": [
            "Features with non-zero weight (sorted by absolute magnitude):\n",
            "\tOverall Height, 17.072\n",
            "\tRelative Compactness, -12.405\n",
            "\tRoof Area, -7.361\n",
            "\tGlazing Area, 5.643\n",
            "\tGlazing Area Distribution, 0.237\n",
            "\tOrientation, 0.114\n",
            "\tWall Area, 0.017\n"
          ]
        }
      ],
      "source": [
        "print('Features with non-zero weight (sorted by absolute magnitude):')\n",
        "for e in sorted (list(zip(list(X), lasso.coef_)),\n",
        "                key = lambda e: -abs(e[1])):\n",
        "    if e[1] != 0:\n",
        "        print('\\t{}, {:.3f}'.format(e[0], e[1]))"
      ]
    },
    {
      "cell_type": "markdown",
      "metadata": {
        "id": "y5hEe8kNxZBw"
      },
      "source": [
        "## Polynomial Regression"
      ]
    },
    {
      "cell_type": "code",
      "execution_count": null,
      "metadata": {
        "colab": {
          "base_uri": "https://localhost:8080/"
        },
        "id": "oic5vyiNxZBw",
        "outputId": "1e92d897-6cf7-4a46-8b84-fd0f445f0f6f"
      },
      "outputs": [
        {
          "output_type": "stream",
          "name": "stdout",
          "text": [
            "X Train Polynomial Shape: - (576, 45)\n",
            "X Test Polynomial Shape: - (192, 45)\n"
          ]
        }
      ],
      "source": [
        "from sklearn.preprocessing import PolynomialFeatures\n",
        "poly = PolynomialFeatures(degree = 2)\n",
        "X_train_poly = poly.fit_transform(X_train)\n",
        "X_test_poly = poly.fit_transform(X_test)\n",
        "print(\"X Train Polynomial Shape: - {}\".format(X_train_poly.shape))\n",
        "print(\"X Test Polynomial Shape: - {}\".format(X_test_poly.shape))"
      ]
    },
    {
      "cell_type": "code",
      "execution_count": null,
      "metadata": {
        "colab": {
          "base_uri": "https://localhost:8080/"
        },
        "id": "TsvQ7SgXxZBx",
        "outputId": "d2bfb861-273b-4040-d743-c9cce048335c"
      },
      "outputs": [
        {
          "output_type": "stream",
          "name": "stdout",
          "text": [
            "(poly deg 2) R-squared score (training): 0.9726780487605363\n",
            "(poly deg 2) R-squared score (test): 0.9699794274614326\n",
            "\n"
          ]
        }
      ],
      "source": [
        "lr = LinearRegression().fit(X_train_poly, y_train)\n",
        "predict_lr= lr.predict(X_test_poly)\n",
        "print('(poly deg 2) R-squared score (training): {}'\n",
        "     .format(lr.score(X_train_poly, y_train)))\n",
        "print('(poly deg 2) R-squared score (test): {}\\n'\n",
        "     .format(lr.score(X_test_poly, y_test)))"
      ]
    },
    {
      "cell_type": "markdown",
      "metadata": {
        "id": "nXCZGZSGxZBy"
      },
      "source": [
        "#### Addition of many polynomial features often leads to overfitting, so we often use polynomial features in combination with regression that has a regularization penalty, like ridge regression"
      ]
    },
    {
      "cell_type": "markdown",
      "metadata": {
        "id": "EIyKikIpxZBy"
      },
      "source": [
        "## Polynomial with Ridge"
      ]
    },
    {
      "cell_type": "code",
      "execution_count": null,
      "metadata": {
        "colab": {
          "base_uri": "https://localhost:8080/"
        },
        "id": "glf_f-cZxZBz",
        "outputId": "ddec29bf-8eaf-49ae-ad80-2aa54509126f"
      },
      "outputs": [
        {
          "output_type": "stream",
          "name": "stdout",
          "text": [
            "(poly deg 2 + ridge) R-squared score (training): 0.9031799095919619\n",
            "(poly deg 2 + ridge) R-squared score (test): 0.9098974961197429\n"
          ]
        }
      ],
      "source": [
        "ridge = Ridge().fit(X_train_poly, y_train)\n",
        "print('(poly deg 2 + ridge) R-squared score (training): {}'\n",
        "     .format(ridge.score(X_train_poly, y_train)))\n",
        "print('(poly deg 2 + ridge) R-squared score (test): {}'\n",
        "     .format(ridge.score(X_test_poly, y_test)))"
      ]
    },
    {
      "cell_type": "markdown",
      "metadata": {
        "id": "UC5PCkKhxZBz"
      },
      "source": [
        "## Linear SVR"
      ]
    },
    {
      "cell_type": "code",
      "execution_count": null,
      "metadata": {
        "colab": {
          "base_uri": "https://localhost:8080/"
        },
        "id": "s4c--BYPxZB0",
        "outputId": "d2db6334-b989-4557-dbcd-a05834b98db1"
      },
      "outputs": [
        {
          "output_type": "execute_result",
          "data": {
            "text/plain": [
              "{'C': 100}"
            ]
          },
          "metadata": {},
          "execution_count": 82
        }
      ],
      "source": [
        "from sklearn.svm import LinearSVR\n",
        "lsvr = LinearSVR(random_state=10).fit(X_train, y_train)\n",
        "param_grid = {'C': [0.01,0.1,1,10,100]}\n",
        "lsvr=LinearSVR()\n",
        "grid_search = GridSearchCV(lsvr,param_grid,cv=5)\n",
        "grid_search.fit(X_train, y_train)\n",
        "grid_search.best_params_"
      ]
    },
    {
      "cell_type": "code",
      "execution_count": null,
      "metadata": {
        "colab": {
          "base_uri": "https://localhost:8080/"
        },
        "id": "WZ72l6T8xZB0",
        "outputId": "8de9b9ee-ad4f-432c-d998-49aa8145ac48"
      },
      "outputs": [
        {
          "output_type": "stream",
          "name": "stdout",
          "text": [
            "Accuracy of Linear SVR classifier on training set: 0.88\n",
            "Accuracy of Linear SVR classifier on test set: 0.88\n"
          ]
        }
      ],
      "source": [
        "lsvr=LinearSVR(C=100).fit(X_train, y_train)\n",
        "print('Accuracy of Linear SVR classifier on training set: {:.2f}'\n",
        "     .format(lsvr.score(X_train, y_train)))\n",
        "print('Accuracy of Linear SVR classifier on test set: {:.2f}'\n",
        "     .format(lsvr.score(X_test, y_test)))"
      ]
    },
    {
      "cell_type": "markdown",
      "metadata": {
        "id": "r0KxLKP4xZB1"
      },
      "source": [
        "## SVM Regressor"
      ]
    },
    {
      "cell_type": "code",
      "execution_count": null,
      "metadata": {
        "colab": {
          "base_uri": "https://localhost:8080/"
        },
        "id": "8ZbXhFr8xZB1",
        "outputId": "ff08dd11-6e0f-4063-bc3b-6f6c5116bfd0"
      },
      "outputs": [
        {
          "output_type": "execute_result",
          "data": {
            "text/plain": [
              "{'C': 100, 'epsilon': 1}"
            ]
          },
          "metadata": {},
          "execution_count": 84
        }
      ],
      "source": [
        "from sklearn.svm import SVR\n",
        "param_grid = {'C': [0.01,0.1,1,10,100], 'epsilon': [0.01,0.1,1,10,100]}\n",
        "svr = SVR()\n",
        "grid_search = GridSearchCV(svr,param_grid,cv=5)\n",
        "grid_search.fit(X_train, y_train)\n",
        "grid_search.best_params_"
      ]
    },
    {
      "cell_type": "code",
      "execution_count": null,
      "metadata": {
        "colab": {
          "base_uri": "https://localhost:8080/"
        },
        "id": "Ald7CncqxZB2",
        "outputId": "de776317-d754-42a3-81c4-78ef27ce2d62"
      },
      "outputs": [
        {
          "output_type": "stream",
          "name": "stdout",
          "text": [
            "Accuracy of Knn Regressor on training set: 0.96\n",
            "Accuracy of Knn Regressor on test set: 0.94\n"
          ]
        }
      ],
      "source": [
        "svr = SVR(C=100, epsilon=1).fit(X_train, y_train)\n",
        "print('Accuracy of Knn Regressor on training set: {:.2f}'\n",
        "     .format(svr.score(X_train, y_train)))\n",
        "print('Accuracy of Knn Regressor on test set: {:.2f}'\n",
        "     .format(svr.score(X_test, y_test)))"
      ]
    },
    {
      "cell_type": "markdown",
      "metadata": {
        "id": "6eWJMaDsxZB4"
      },
      "source": [
        "## Decision Tree"
      ]
    },
    {
      "cell_type": "code",
      "execution_count": null,
      "metadata": {
        "colab": {
          "base_uri": "https://localhost:8080/"
        },
        "id": "9GO0Cg6WxZB4",
        "outputId": "adf7ad65-3dea-413c-e6c1-4a6add376583"
      },
      "outputs": [
        {
          "output_type": "execute_result",
          "data": {
            "text/plain": [
              "{'max_depth': 6}"
            ]
          },
          "metadata": {},
          "execution_count": 86
        }
      ],
      "source": [
        "from sklearn.tree import DecisionTreeRegressor\n",
        "dt = DecisionTreeRegressor(random_state=10)\n",
        "param_grid = {'max_depth': [2, 4, 6 ,8, 10]}\n",
        "grid_search = GridSearchCV(dt, param_grid,cv=5)\n",
        "grid_search.fit(X_train,y_train)\n",
        "grid_search.best_params_"
      ]
    },
    {
      "cell_type": "code",
      "execution_count": null,
      "metadata": {
        "colab": {
          "base_uri": "https://localhost:8080/"
        },
        "id": "8I9GDeUTxZB8",
        "outputId": "76b6068b-71dd-4f12-9e57-9b38513001a2"
      },
      "outputs": [
        {
          "output_type": "stream",
          "name": "stdout",
          "text": [
            "Accuracy of DT Regressor on training set: 0.9753913875987169\n",
            "Accuracy of Dt Regressor on test set: 0.9650350273065316\n"
          ]
        }
      ],
      "source": [
        "dt = DecisionTreeRegressor(max_depth=6, random_state=10).fit(X_train, y_train)\n",
        "print('Accuracy of DT Regressor on training set: {}'\n",
        "     .format(dt.score(X_train, y_train)))\n",
        "print('Accuracy of Dt Regressor on test set: {}'\n",
        "     .format(dt.score(X_test, y_test)))"
      ]
    },
    {
      "cell_type": "markdown",
      "metadata": {
        "id": "yoRXlWCtxZB9"
      },
      "source": [
        "##Summary of R- Square Scores for Base Regression Models for Cooling Load"
      ]
    },
    {
      "cell_type": "markdown",
      "metadata": {
        "id": "OEqe-kMRxZB9"
      },
      "source": [
        "1. Linear Regression : - 0.89\n",
        "2. KNN Regressor : - 0.91\n",
        "3. Ridge: - 0.89\n",
        "4. Lasso : - 0.89\n",
        "5. Polynomial : - 0.9639\n",
        "6. Polynomial with Ridge: - 0.90\n",
        "7. Linear SVR : - 0.88\n",
        "8. SVM : - 0.91\n",
        "9. Decision Tree : - 0.9650"
      ]
    },
    {
      "cell_type": "markdown",
      "metadata": {
        "id": "_VNrujgIxZB-"
      },
      "source": [
        "### Best Base Regression Model for Cooling Load :- Decision Tree with R Square= 0.9650"
      ]
    },
    {
      "cell_type": "markdown",
      "metadata": {
        "id": "nKPAgHuaxZB-"
      },
      "source": [
        "#  Ensembles"
      ]
    },
    {
      "cell_type": "markdown",
      "metadata": {
        "id": "SSeFnpCMxZB_"
      },
      "source": [
        "## Random Forest"
      ]
    },
    {
      "cell_type": "code",
      "execution_count": null,
      "metadata": {
        "colab": {
          "base_uri": "https://localhost:8080/"
        },
        "id": "XIhR7n3FxZB_",
        "outputId": "5259f7ec-f3e1-4420-c39c-69cb1b32986d"
      },
      "outputs": [
        {
          "output_type": "execute_result",
          "data": {
            "text/plain": [
              "{'max_depth': 8, 'max_features': 4, 'max_leaf_nodes': 8}"
            ]
          },
          "metadata": {},
          "execution_count": 88
        }
      ],
      "source": [
        "from sklearn.ensemble import RandomForestRegressor\n",
        "param_grid = {'max_features': [2,4,6,8],\n",
        "            'max_depth': [2,4,6,8],\n",
        "           'max_leaf_nodes':[2,4,6,8]}\n",
        "rf = RandomForestRegressor()\n",
        "grid_search = GridSearchCV(rf,param_grid,cv=5)\n",
        "grid_search.fit(X_train, y_train)\n",
        "grid_search.best_params_"
      ]
    },
    {
      "cell_type": "code",
      "execution_count": null,
      "metadata": {
        "colab": {
          "base_uri": "https://localhost:8080/"
        },
        "id": "hUW8AiH4xZCA",
        "outputId": "655b8482-e309-49f4-fba3-576b33b8584b"
      },
      "outputs": [
        {
          "output_type": "stream",
          "name": "stdout",
          "text": [
            "Accuracy of RF Regressor on training set: 0.94\n",
            "Accuracy of Rf Regressor on test set: 0.93\n"
          ]
        }
      ],
      "source": [
        "rf = RandomForestRegressor(max_depth= 6, max_features=6, max_leaf_nodes=8).fit(X_train, y_train)\n",
        "print('Accuracy of RF Regressor on training set: {:.2f}'\n",
        "     .format(rf.score(X_train, y_train)))\n",
        "print('Accuracy of Rf Regressor on test set: {:.2f}'\n",
        "     .format(rf.score(X_test, y_test)))"
      ]
    },
    {
      "cell_type": "markdown",
      "metadata": {
        "id": "y6nn7ms4xZCA"
      },
      "source": [
        "## Bagging and Pasting"
      ]
    },
    {
      "cell_type": "markdown",
      "metadata": {
        "id": "O4u7vdsExZCB"
      },
      "source": [
        "### Bagging with KNN"
      ]
    },
    {
      "cell_type": "code",
      "execution_count": null,
      "metadata": {
        "colab": {
          "base_uri": "https://localhost:8080/"
        },
        "id": "br4NpMsexZCC",
        "outputId": "784a1f60-56e5-4228-c207-f2910852d08a"
      },
      "outputs": [
        {
          "output_type": "stream",
          "name": "stdout",
          "text": [
            "Accuracy of Bagging KNN Regressor on training set: 0.85\n",
            "Accuracy of Bagging KNN on test set: 0.85\n"
          ]
        }
      ],
      "source": [
        "from sklearn.ensemble import BaggingRegressor\n",
        "bag_knn = BaggingRegressor(base_estimator=knn,bootstrap_features=True, max_samples=50).fit(X_train, y_train)\n",
        "print('Accuracy of Bagging KNN Regressor on training set: {:.2f}'\n",
        "     .format(bag_knn.score(X_train, y_train)))\n",
        "print('Accuracy of Bagging KNN on test set: {:.2f}'\n",
        "     .format(bag_knn.score(X_test, y_test)))"
      ]
    },
    {
      "cell_type": "markdown",
      "metadata": {
        "id": "iIanAMRzxZCC"
      },
      "source": [
        "###Pasting with KNN"
      ]
    },
    {
      "cell_type": "code",
      "execution_count": null,
      "metadata": {
        "colab": {
          "base_uri": "https://localhost:8080/"
        },
        "id": "TCP9ICz8xZCC",
        "outputId": "da036b18-4b28-445d-a749-15f11e78981c"
      },
      "outputs": [
        {
          "output_type": "stream",
          "name": "stdout",
          "text": [
            "Accuracy of Pasting KNN Regressor on training set: 0.86\n",
            "Accuracy of Pasting KNN on test set: 0.87\n"
          ]
        }
      ],
      "source": [
        "paste_knn = BaggingRegressor(base_estimator=knn, max_samples=50, bootstrap=False).fit(X_train, y_train)\n",
        "print('Accuracy of Pasting KNN Regressor on training set: {:.2f}'\n",
        "     .format(paste_knn.score(X_train, y_train)))\n",
        "print('Accuracy of Pasting KNN on test set: {:.2f}'\n",
        "     .format(paste_knn.score(X_test, y_test)))"
      ]
    },
    {
      "cell_type": "markdown",
      "metadata": {
        "id": "TphJiFqdxZCD"
      },
      "source": [
        "### Bagging with Linear SVR"
      ]
    },
    {
      "cell_type": "code",
      "execution_count": null,
      "metadata": {
        "colab": {
          "base_uri": "https://localhost:8080/"
        },
        "id": "qoUtQ-RKxZCD",
        "outputId": "80a3823b-f544-4365-a9a2-9dd3dd213ecb"
      },
      "outputs": [
        {
          "output_type": "stream",
          "name": "stdout",
          "text": [
            "Accuracy of Bagging Linear SVR Regressor on training set: 0.86\n",
            "Accuracy of Bagging Linear SVR on test set: 0.86\n"
          ]
        }
      ],
      "source": [
        "from sklearn.ensemble import BaggingRegressor\n",
        "bag_lsvr = BaggingRegressor(base_estimator=lsvr,bootstrap_features=True, max_samples=50).fit(X_train, y_train)\n",
        "print('Accuracy of Bagging Linear SVR Regressor on training set: {:.2f}'\n",
        "     .format(bag_lsvr.score(X_train, y_train)))\n",
        "print('Accuracy of Bagging Linear SVR on test set: {:.2f}'\n",
        "     .format(bag_lsvr.score(X_test, y_test)))"
      ]
    },
    {
      "cell_type": "markdown",
      "metadata": {
        "id": "C43ZSS0WxZCD"
      },
      "source": [
        "###Pasting with Linear SVR"
      ]
    },
    {
      "cell_type": "code",
      "execution_count": null,
      "metadata": {
        "colab": {
          "base_uri": "https://localhost:8080/"
        },
        "id": "a8kT21X6xZCE",
        "outputId": "e1cd9262-b987-4dd4-ab04-9b6fb36cdb0c"
      },
      "outputs": [
        {
          "output_type": "stream",
          "name": "stdout",
          "text": [
            "Accuracy of Pasting Linear SVR Regressor on training set: 0.87\n",
            "Accuracy of Pasting Linear SVR on test set: 0.88\n"
          ]
        }
      ],
      "source": [
        "from sklearn.ensemble import BaggingRegressor\n",
        "paste_lsvr = BaggingRegressor(base_estimator=lsvr,max_samples=50, bootstrap=False).fit(X_train, y_train)\n",
        "print('Accuracy of Pasting Linear SVR Regressor on training set: {:.2f}'\n",
        "     .format(paste_lsvr.score(X_train, y_train)))\n",
        "print('Accuracy of Pasting Linear SVR on test set: {:.2f}'\n",
        "     .format(paste_lsvr.score(X_test, y_test)))"
      ]
    },
    {
      "cell_type": "markdown",
      "metadata": {
        "id": "OSjdvrhqxZCE"
      },
      "source": [
        "### Bagging with SVR"
      ]
    },
    {
      "cell_type": "code",
      "execution_count": null,
      "metadata": {
        "colab": {
          "base_uri": "https://localhost:8080/"
        },
        "id": "_e6xiJ_3xZCF",
        "outputId": "5f2b85f7-b8ae-46ea-edce-a633a831a8ca"
      },
      "outputs": [
        {
          "output_type": "stream",
          "name": "stdout",
          "text": [
            "Accuracy of Bagging Linear SVR Regressor on training set: 0.90\n",
            "Accuracy of Bagging Linear SVR on test set: 0.90\n"
          ]
        }
      ],
      "source": [
        "from sklearn.ensemble import BaggingRegressor\n",
        "bag_svr = BaggingRegressor(base_estimator=svr,bootstrap_features=True, max_samples=50).fit(X_train, y_train)\n",
        "print('Accuracy of Bagging Linear SVR Regressor on training set: {:.2f}'\n",
        "     .format(bag_svr.score(X_train, y_train)))\n",
        "print('Accuracy of Bagging Linear SVR on test set: {:.2f}'\n",
        "     .format(bag_svr.score(X_test, y_test)))"
      ]
    },
    {
      "cell_type": "markdown",
      "metadata": {
        "id": "2voPL0fLxZCF"
      },
      "source": [
        "### Pasting with SVR"
      ]
    },
    {
      "cell_type": "code",
      "execution_count": null,
      "metadata": {
        "colab": {
          "base_uri": "https://localhost:8080/"
        },
        "id": "Ask0r_E3xZCF",
        "outputId": "64250fe0-ca25-4a68-86f8-0df50edc5d49"
      },
      "outputs": [
        {
          "output_type": "stream",
          "name": "stdout",
          "text": [
            "Accuracy of Pasting Linear SVR Regressor on training set: 0.90\n",
            "Accuracy of Pasting Linear SVR on test set: 0.90\n"
          ]
        }
      ],
      "source": [
        "from sklearn.ensemble import BaggingRegressor\n",
        "paste_svr = BaggingRegressor(base_estimator=svr,max_samples=50, bootstrap=False).fit(X_train, y_train)\n",
        "print('Accuracy of Pasting Linear SVR Regressor on training set: {:.2f}'\n",
        "     .format(paste_svr.score(X_train, y_train)))\n",
        "print('Accuracy of Pasting Linear SVR on test set: {:.2f}'\n",
        "     .format(paste_svr.score(X_test, y_test)))"
      ]
    },
    {
      "cell_type": "markdown",
      "metadata": {
        "id": "yYbqLZmmxZCG"
      },
      "source": [
        "### Bagging with Decision Tree"
      ]
    },
    {
      "cell_type": "code",
      "execution_count": null,
      "metadata": {
        "colab": {
          "base_uri": "https://localhost:8080/"
        },
        "id": "SAOwO6pJxZCG",
        "outputId": "aaf85270-619a-4205-cdbd-e00ae72f4be9"
      },
      "outputs": [
        {
          "output_type": "stream",
          "name": "stdout",
          "text": [
            "Accuracy of Bagging Decision Tree Regressor on training set: 0.95\n",
            "Accuracy of Bagging Decision Tree Regressor on test set: 0.95\n"
          ]
        }
      ],
      "source": [
        "from sklearn.ensemble import BaggingRegressor\n",
        "bag_dt = BaggingRegressor(base_estimator=dt,bootstrap_features=True, max_samples=50).fit(X_train, y_train)\n",
        "print('Accuracy of Bagging Decision Tree Regressor on training set: {:.2f}'\n",
        "     .format(bag_dt.score(X_train, y_train)))\n",
        "print('Accuracy of Bagging Decision Tree Regressor on test set: {:.2f}'\n",
        "     .format(bag_dt.score(X_test, y_test)))"
      ]
    },
    {
      "cell_type": "markdown",
      "metadata": {
        "id": "OmIkRyKFxZCH"
      },
      "source": [
        "### Pasting with Decision Tree"
      ]
    },
    {
      "cell_type": "code",
      "execution_count": null,
      "metadata": {
        "colab": {
          "base_uri": "https://localhost:8080/"
        },
        "id": "rSjvV3knxZCH",
        "outputId": "63c7bb71-e97e-4897-8aac-59a754344326"
      },
      "outputs": [
        {
          "output_type": "stream",
          "name": "stdout",
          "text": [
            "Accuracy of Pasting Decision Tree on training set: 0.90\n",
            "Accuracy of Pasting Decision Tree on test set: 0.90\n"
          ]
        }
      ],
      "source": [
        "from sklearn.ensemble import BaggingRegressor\n",
        "paste_dt = BaggingRegressor(base_estimator=dt,max_samples=50, bootstrap=False).fit(X_train, y_train)\n",
        "print('Accuracy of Pasting Decision Tree on training set: {:.2f}'\n",
        "     .format(paste_svr.score(X_train, y_train)))\n",
        "print('Accuracy of Pasting Decision Tree on test set: {:.2f}'\n",
        "     .format(paste_svr.score(X_test, y_test)))"
      ]
    },
    {
      "cell_type": "markdown",
      "metadata": {
        "id": "AkbHQbfLxZCI"
      },
      "source": [
        "## Boosting"
      ]
    },
    {
      "cell_type": "markdown",
      "metadata": {
        "id": "G_DoSm_KxZCJ"
      },
      "source": [
        "### Adaptive Boosting with Decision Tree Regressor"
      ]
    },
    {
      "cell_type": "code",
      "execution_count": null,
      "metadata": {
        "colab": {
          "base_uri": "https://localhost:8080/"
        },
        "id": "klT4jTrFxZCJ",
        "outputId": "29e49700-e6c6-4cc5-fe46-d8eebab62639"
      },
      "outputs": [
        {
          "output_type": "stream",
          "name": "stdout",
          "text": [
            "Accuracy of Adaptive Boosting with Decision Tree Regressor on training set: 0.9818128132768795\n",
            "Accuracy of Adaptive Boosting with Decision Tree Regressor on test set: 0.9680513252068838\n"
          ]
        }
      ],
      "source": [
        "from sklearn.ensemble import AdaBoostRegressor\n",
        "adaboost_dt = AdaBoostRegressor(base_estimator = dt, learning_rate = 0.5).fit(X_train, y_train)\n",
        "print('Accuracy of Adaptive Boosting with Decision Tree Regressor on training set: {}'\n",
        "     .format(adaboost_dt.score(X_train, y_train)))\n",
        "print('Accuracy of Adaptive Boosting with Decision Tree Regressor on test set: {}'\n",
        "     .format(adaboost_dt.score(X_test, y_test)))"
      ]
    },
    {
      "cell_type": "markdown",
      "metadata": {
        "id": "fTgrTuwFxZCJ"
      },
      "source": [
        "###Adaptive Boosting with Random Forest Regressor"
      ]
    },
    {
      "cell_type": "code",
      "execution_count": null,
      "metadata": {
        "colab": {
          "base_uri": "https://localhost:8080/"
        },
        "id": "LHSTQ4FmxZCK",
        "outputId": "46acd9e0-8c4d-413c-d6b8-cb237c49213e"
      },
      "outputs": [
        {
          "output_type": "stream",
          "name": "stdout",
          "text": [
            "Accuracy of Adaptive Boosting with Random Forest Regressor on training set: 0.9483986863799276\n",
            "Accuracy of Adaptive Boosting with Random Forest Regressor on test set: 0.9406867243049332\n"
          ]
        }
      ],
      "source": [
        "from sklearn.ensemble import AdaBoostRegressor\n",
        "adaboost_rf = AdaBoostRegressor(base_estimator = rf, learning_rate = 0.5).fit(X_train, y_train)\n",
        "print('Accuracy of Adaptive Boosting with Random Forest Regressor on training set: {}'\n",
        "     .format(adaboost_rf.score(X_train, y_train)))\n",
        "print('Accuracy of Adaptive Boosting with Random Forest Regressor on test set: {}'\n",
        "     .format(adaboost_rf.score(X_test, y_test)))"
      ]
    },
    {
      "cell_type": "markdown",
      "metadata": {
        "id": "AHuwkgfgxZCK"
      },
      "source": [
        "###  Adaptive Boosting with SVM Regressor"
      ]
    },
    {
      "cell_type": "code",
      "execution_count": null,
      "metadata": {
        "colab": {
          "base_uri": "https://localhost:8080/"
        },
        "id": "wCbcie0TxZCK",
        "outputId": "cec439c3-b3e7-49cf-a516-cc86b46c9e7e"
      },
      "outputs": [
        {
          "output_type": "stream",
          "name": "stdout",
          "text": [
            "Accuracy of Adaptive Boosting with SVM Regressor on training set: 0.9815345015131801\n",
            "Accuracy of Adaptive Boosting with SVM Regressor on test set: 0.9642966090734102\n"
          ]
        }
      ],
      "source": [
        "from sklearn.ensemble import AdaBoostRegressor\n",
        "adaboost_svr = AdaBoostRegressor(base_estimator = svr, learning_rate = 0.5).fit(X_train, y_train)\n",
        "print('Accuracy of Adaptive Boosting with SVM Regressor on training set: {}'\n",
        "     .format(adaboost_svr.score(X_train, y_train)))\n",
        "print('Accuracy of Adaptive Boosting with SVM Regressor on test set: {}'\n",
        "     .format(adaboost_svr.score(X_test, y_test)))"
      ]
    },
    {
      "cell_type": "markdown",
      "metadata": {
        "id": "QuMiJy5PxZCL"
      },
      "source": [
        "## Gradient Boosting Regressor"
      ]
    },
    {
      "cell_type": "code",
      "execution_count": null,
      "metadata": {
        "colab": {
          "base_uri": "https://localhost:8080/"
        },
        "id": "MegPLap8xZCL",
        "outputId": "5bfb4d1b-d290-4019-fb9f-934426830d4b"
      },
      "outputs": [
        {
          "output_type": "execute_result",
          "data": {
            "text/plain": [
              "{'learning_rate': 1, 'n_estimators': 50}"
            ]
          },
          "metadata": {},
          "execution_count": 101
        }
      ],
      "source": [
        "from sklearn.ensemble import GradientBoostingRegressor\n",
        "gb=GradientBoostingRegressor(max_depth=4)\n",
        "param_grid = {'learning_rate': [0.1,1,10,100], 'n_estimators': [5,10,20,50]}\n",
        "gb = GradientBoostingRegressor()\n",
        "grid_search = GridSearchCV(gb,param_grid,cv=5)\n",
        "grid_search.fit(X_train, y_train)\n",
        "grid_search.best_params_"
      ]
    },
    {
      "cell_type": "code",
      "execution_count": null,
      "metadata": {
        "colab": {
          "base_uri": "https://localhost:8080/"
        },
        "id": "5EvYHHiJxZCL",
        "outputId": "2a4c0c5a-57fd-4220-c079-32f5e783cd54"
      },
      "outputs": [
        {
          "output_type": "stream",
          "name": "stdout",
          "text": [
            "Accuracy of GB Regressor on training set: 0.9936629042839792\n",
            "Accuracy of GB Regressor on test set: 0.9862539296393725\n"
          ]
        }
      ],
      "source": [
        "gb=GradientBoostingRegressor(learning_rate=1, n_estimators=50).fit(X_train, y_train)\n",
        "print('Accuracy of GB Regressor on training set: {}'\n",
        "     .format(gb.score(X_train, y_train)))\n",
        "print('Accuracy of GB Regressor on test set: {}'\n",
        "     .format(gb.score(X_test, y_test)))"
      ]
    },
    {
      "cell_type": "markdown",
      "metadata": {
        "id": "UsqOu1Y4xZCM"
      },
      "source": [
        "## Ensemble of All Regressors- Stacking Regressor"
      ]
    },
    {
      "cell_type": "code",
      "execution_count": null,
      "metadata": {
        "id": "k26a82lfxZCM"
      },
      "outputs": [],
      "source": [
        "lr=LinearRegression()\n",
        "knn=KNeighborsRegressor(n_neighbors=8)\n",
        "lsvr=LinearSVR(C=100)\n",
        "svr = SVR(C=100, epsilon=1)\n",
        "rf = RandomForestRegressor(max_depth= 6, max_features=4, max_leaf_nodes=8)"
      ]
    },
    {
      "cell_type": "code",
      "execution_count": null,
      "metadata": {
        "colab": {
          "base_uri": "https://localhost:8080/"
        },
        "id": "vw0x4K7XxZCN",
        "outputId": "bd746a3f-bd8c-4b04-eff1-46efd475387d"
      },
      "outputs": [
        {
          "output_type": "stream",
          "name": "stdout",
          "text": [
            "Accuracy of STR Regressor on training set: 0.982\n",
            "Accuracy of STR Regressor on test set: 0.967\n"
          ]
        }
      ],
      "source": [
        "from mlxtend.regressor import StackingRegressor\n",
        "stregr = StackingRegressor(regressors=[lr, knn, lsvr, svr, rf], \n",
        "                           meta_regressor=svr)\n",
        "stregr.fit(X_train, y_train)\n",
        "str_predict = stregr.predict(X_test)\n",
        "print('Accuracy of STR Regressor on training set: {:.3f}'\n",
        "     .format(stregr.score(X_train, y_train)))\n",
        "print('Accuracy of STR Regressor on test set: {:.3f}'\n",
        "     .format(stregr.score(X_test, y_test)))"
      ]
    },
    {
      "cell_type": "code",
      "execution_count": null,
      "metadata": {
        "colab": {
          "base_uri": "https://localhost:8080/"
        },
        "id": "mlhAEQSpxZCN",
        "outputId": "2a6d709e-dd4b-4755-85ac-3ed6f7638050"
      },
      "outputs": [
        {
          "output_type": "stream",
          "name": "stdout",
          "text": [
            "Mean Squared Error: 3.0440\n",
            "Variance Score: 0.9674\n"
          ]
        }
      ],
      "source": [
        "print(\"Mean Squared Error: %.4f\"\n",
        "      % np.mean((stregr.predict(X_test) - y_test) ** 2))\n",
        "print('Variance Score: %.4f' % stregr.score(X_test, y_test))"
      ]
    },
    {
      "cell_type": "markdown",
      "metadata": {
        "id": "DMZZuNd_xZCO"
      },
      "source": [
        "## Summary of R- Square Scores for Ensemble Regression Models for Cooling Load"
      ]
    },
    {
      "cell_type": "markdown",
      "metadata": {
        "id": "XIiSBoN-xZCO"
      },
      "source": [
        "1. Random Forest: - 0.93\n",
        "2. Bagging(KNN) : - 0.84\n",
        "3. Pasting(KNN) : - 0.86\n",
        "4. Bagging(Linear SVR) : - 0.87\n",
        "5. Pasting(Linear SVR) : - 0.88\n",
        "6. Bagging(SVR) : - 0.88\n",
        "7. Pasting(SVR) : - 0.89\n",
        "8. Bagging(Decision Tree): - 0.95\n",
        "9. Pasting(Decision Tree): - 0.89\n",
        "10. Adaptive Boosting (Decision Tree) : - 0.9661\n",
        "11. Adaptive Boosting (Random Forest) : - 0.9438\n",
        "12. Adaptive Boosting (SVM Regressor) : - 0.92\n",
        "13. Gradient Boosting : - 0.9863"
      ]
    },
    {
      "cell_type": "markdown",
      "metadata": {
        "id": "bVVxYZBVxZCP"
      },
      "source": [
        "### Best Ensemble Regression Model for Cooling Load :- Gradient Boosting with R Square= 0.9863"
      ]
    },
    {
      "cell_type": "markdown",
      "source": [
        "# Summary\n",
        "First I have Uploaded the dataset. Then, I started exploratory data analysis . I have renamed the column names as per there real name. We 1296 have rows & 10 columns in the dataset. I have Have dropped 528 null values in all the values.I have created a new data column overall load which is a summation of heating load & cooling load.Checked on the relationships with the target variable . Checked on the variable trend of overall load.Added a new column class efficiency.\n",
        "Then we have predicted our model with new dataset.\n",
        "1. Linear Regression : - 0.89\n",
        "2. KNN Regressor : - 0.91\n",
        "3. Ridge: - 0.89\n",
        "4. Lasso : - 0.89\n",
        "5. Polynomial : - 0.9639\n",
        "6. Polynomial with Ridge: - 0.90\n",
        "7. Linear SVR : - 0.88\n",
        "8. SVM : - 0.91\n",
        "9. Decision Tree : - 0.9650\n",
        "\n",
        "Best Base Regression Model for Cooling Load :- Decision Tree with R Square= 0.9650\n",
        "\n",
        "1.Random Forest: - 0.93\n",
        "\n",
        "2.Bagging(KNN) : - 0.84\n",
        "\n",
        "3.Pasting(KNN) : - 0.86\n",
        "\n",
        "4.Bagging(Linear SVR) : - 0.87\n",
        "\n",
        "5.Pasting(Linear SVR) : - 0.88\n",
        "\n",
        "6.Bagging(SVR) : - 0.88\n",
        "\n",
        "7.Pasting(SVR) : - 0.89\n",
        "\n",
        "8.Bagging(Decision Tree): - 0.95\n",
        "\n",
        "9.Pasting(Decision Tree): - 0.89\n",
        "\n",
        "10.Adaptive Boosting (Decision Tree) : - 0.9661\n",
        "\n",
        "11.Adaptive Boosting (Random Forest) : - 0.9438\n",
        "\n",
        "12.Adaptive Boosting (SVM Regressor) : - 0.92\n",
        "\n",
        "13.Gradient Boosting : - 0.9863\n",
        "\n",
        "Best Ensemble Regression Model for Cooling Load :- Gradient Boosting with R Square= 0.9863"
      ],
      "metadata": {
        "id": "uusgT4wfm8t7"
      }
    },
    {
      "cell_type": "markdown",
      "source": [
        "# References\n",
        "Relevant Papers:\n",
        "\n",
        "A. Tsanas, A. Xifara: 'Accurate quantitative estimation of energy performance of residential buildings using statistical machine learning tools', Energy and Buildings, Vol. 49, pp. 560-567, 2012"
      ],
      "metadata": {
        "id": "M1adLBs1V-Mq"
      }
    }
  ],
  "metadata": {
    "kernelspec": {
      "display_name": "Python 3",
      "language": "python",
      "name": "python3"
    },
    "language_info": {
      "codemirror_mode": {
        "name": "ipython",
        "version": 3
      },
      "file_extension": ".py",
      "mimetype": "text/x-python",
      "name": "python",
      "nbconvert_exporter": "python",
      "pygments_lexer": "ipython3",
      "version": "3.6.4"
    },
    "colab": {
      "provenance": []
    }
  },
  "nbformat": 4,
  "nbformat_minor": 0
}